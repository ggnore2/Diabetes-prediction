{
 "cells": [
  {
   "cell_type": "markdown",
   "id": "1ef712ef",
   "metadata": {},
   "source": [
    "# Xây dựng và kiểm thử mô hình"
   ]
  },
  {
   "cell_type": "markdown",
   "id": "494099ac",
   "metadata": {},
   "source": [
    "## Nhập khẩu các thư viện"
   ]
  },
  {
   "cell_type": "code",
   "execution_count": 1,
   "id": "08845b32",
   "metadata": {},
   "outputs": [],
   "source": [
    "import pandas as pd\n",
    "import numpy as np\n",
    "import seaborn as sn\n",
    "from matplotlib import pyplot as plt\n",
    "from sklearn.impute import SimpleImputer\n",
    "from sklearn.linear_model import LogisticRegression, LinearRegression\n",
    "from sklearn.neighbors import KNeighborsClassifier\n",
    "from sklearn.model_selection import train_test_split, GridSearchCV\n",
    "from sklearn.metrics import accuracy_score, precision_score,recall_score, fbeta_score, make_scorer\n",
    "import time"
   ]
  },
  {
   "cell_type": "markdown",
   "id": "b19c853e",
   "metadata": {},
   "source": [
    "## Đọc tập dữ liệu thành DataFrame"
   ]
  },
  {
   "cell_type": "code",
   "execution_count": 2,
   "id": "c9bc60fc",
   "metadata": {},
   "outputs": [],
   "source": [
    "DiabetesDataFrame = pd.read_csv(\"./diabetes.csv\")"
   ]
  },
  {
   "cell_type": "markdown",
   "id": "d477e580",
   "metadata": {},
   "source": [
    "# Xử lý các giá trị bị thiếu"
   ]
  },
  {
   "cell_type": "markdown",
   "id": "d73de00d",
   "metadata": {},
   "source": [
    "## Điền các giá trị bị trống bằng các giá trị ngẫu nhiên của từng biến"
   ]
  },
  {
   "cell_type": "code",
   "execution_count": 3,
   "id": "b2b1d673",
   "metadata": {},
   "outputs": [],
   "source": [
    "DiabetesDataFrame.loc[DiabetesDataFrame[\"Glucose\"] == 0.0, \"Glucose\"] = np.NAN\n",
    "DiabetesDataFrame.loc[DiabetesDataFrame[\"BloodPressure\"] == 0.0, \"BloodPressure\"] = np.NAN\n",
    "DiabetesDataFrame.loc[DiabetesDataFrame[\"SkinThickness\"] == 0.0, \"SkinThickness\"] = np.NAN\n",
    "DiabetesDataFrame.loc[DiabetesDataFrame[\"Insulin\"] == 0.0, \"Insulin\"] = np.NAN\n",
    "DiabetesDataFrame.loc[DiabetesDataFrame[\"BMI\"] == 0.0, \"BMI\"] = np.NAN\n",
    "\n",
    "ListOfAttributesContainMissingValues = [\"Glucose\",\"BloodPressure\",\"SkinThickness\",\"Insulin\",\"BMI\"]\n",
    "\n",
    "for attribute in ListOfAttributesContainMissingValues:\n",
    "    number_missing = DiabetesDataFrame[attribute].isnull().sum()\n",
    "    observed_values = DiabetesDataFrame.loc[DiabetesDataFrame[attribute].notnull(), attribute]\n",
    "    np.random.seed(30)\n",
    "    DiabetesDataFrame.loc[DiabetesDataFrame[attribute].isnull(), attribute] = np.random.choice(observed_values, \n",
    "                                                                                               number_missing, replace = True)\n"
   ]
  },
  {
   "cell_type": "markdown",
   "id": "41ebe9c7",
   "metadata": {},
   "source": [
    "## Điền các giá trị bị trống bằng Stochastic Regression Imputation"
   ]
  },
  {
   "cell_type": "code",
   "execution_count": 4,
   "id": "d507f731",
   "metadata": {},
   "outputs": [],
   "source": [
    "missingPositionsAcrossAllAttributes = (DiabetesDataFrame.loc[:, ListOfAttributesContainMissingValues] == 0.0)\n",
    "\n",
    "for attribute in ListOfAttributesContainMissingValues:\n",
    "    X = DiabetesDataFrame.loc[:, DiabetesDataFrame.columns != attribute]\n",
    "    y = DiabetesDataFrame[attribute]\n",
    "    modelForImputation = LinearRegression()\n",
    "    modelForImputation.fit(X, y)\n",
    "    \n",
    "    notMissingPositions = ~(missingPositionsAcrossAllAttributes[attribute])\n",
    "    missingPositions = (missingPositionsAcrossAllAttributes[attribute])\n",
    "\n",
    "    y_pred = modelForImputation.predict(X)\n",
    "    \n",
    "    np.random.seed(0)\n",
    "    std = (DiabetesDataFrame.loc[notMissingPositions, attribute] - y_pred[notMissingPositions]).std()\n",
    "    y_pred_with_random = np.random.normal(size = DiabetesDataFrame[attribute].shape[0],\n",
    "              loc = y_pred,\n",
    "              scale = std)\n",
    "    dtype = DiabetesDataFrame[attribute].dtype\n",
    "\n",
    "    DiabetesDataFrame.loc[(missingPositions) & \n",
    "                          (y_pred_with_random > 0), attribute] = y_pred[(missingPositions) & \n",
    "                                                                        (y_pred_with_random > 0)].astype(dtype)\n"
   ]
  },
  {
   "cell_type": "markdown",
   "id": "e37405f6",
   "metadata": {},
   "source": [
    "## Số lượng và danh sách các giá trị ngoại lai của từng biến"
   ]
  },
  {
   "cell_type": "code",
   "execution_count": 5,
   "id": "76ed8cd9",
   "metadata": {},
   "outputs": [
    {
     "name": "stdout",
     "output_type": "stream",
     "text": [
      "Pregnancies có 4 giá trị ngoại lai\n",
      "15, 17, 14, 14\n",
      "-6.5 < x < 13.5\n",
      "\n",
      "Glucose có 0 giá trị ngoại lai\n",
      "Không có giá trị ngoại lai\n",
      "36.0 < x < 204.0\n",
      "\n",
      "BloodPressure có 14 giá trị ngoại lai\n",
      "30.0, 110.0, 108.0, 122.0, 30.0, 110.0, 108.0, 110.0, 24.0, 38.0, 106.0, 106.0, 106.0, 114.0\n",
      "40.0 < x < 104.0\n",
      "\n",
      "SkinThickness có 3 giá trị ngoại lai\n",
      "60.0, 63.0, 99.0\n",
      "-0.5 < x < 59.5\n",
      "\n",
      "Insulin có 46 giá trị ngoại lai\n",
      "543.0, 480.0, 846.0, 370.0, 440.0, 465.0, 495.0, 478.0, 485.0, 495.0, 478.0, 744.0, 370.0, 485.0, 680.0, 402.0, 402.0, 375.0, 370.0, 545.0, 846.0, 495.0, 600.0, 465.0, 415.0, 600.0, 579.0, 474.0, 510.0, 480.0, 495.0, 600.0, 370.0, 440.0, 540.0, 680.0, 540.0, 744.0, 480.0, 495.0, 387.0, 392.0, 370.0, 545.0, 510.0, 465.0\n",
      "-98.5 < x < 369.5\n",
      "\n",
      "BMI có 8 giá trị ngoại lai\n",
      "53.2, 55.0, 67.1, 52.3, 52.3, 52.9, 59.4, 57.3\n",
      "13.8125 < x < 50.3125\n",
      "\n",
      "DiabetesPedigreeFunction có 29 giá trị ngoại lai\n",
      "2.288, 1.441, 1.39, 1.893, 1.781, 1.222, 1.4, 1.321, 1.224, 2.329, 1.318, 1.213, 1.353, 1.224, 1.391, 1.476, 2.137, 1.731, 1.268, 1.6, 2.42, 1.251, 1.699, 1.258, 1.282, 1.698, 1.461, 1.292, 1.394\n",
      "-0.32999999999999996 < x < 1.2\n",
      "\n",
      "Age có 9 giá trị ngoại lai\n",
      "69, 67, 72, 81, 67, 67, 70, 68, 69\n",
      "-1.5 < x < 66.5\n",
      "\n"
     ]
    }
   ],
   "source": [
    "numericAttributes = [\"Pregnancies\", \"Glucose\", \"BloodPressure\", \"SkinThickness\", \"Insulin\", \"BMI\", \"DiabetesPedigreeFunction\", \n",
    "                     \"Age\"]\n",
    "for attribute in numericAttributes:\n",
    "    Q1 = DiabetesDataFrame[attribute].quantile(0.25)\n",
    "    Q3 = DiabetesDataFrame[attribute].quantile(0.75)\n",
    "    IQR = Q3 - Q1\n",
    "    min_limit = Q1 - 1.5 * IQR\n",
    "    max_limit = Q3 + 1.5 * IQR\n",
    "    \n",
    "    outlierPositions = (DiabetesDataFrame[attribute] < min_limit) | ((DiabetesDataFrame[attribute] > max_limit))\n",
    "    count = DiabetesDataFrame.loc[outlierPositions, attribute].count()\n",
    "    \n",
    "\n",
    "    elements = \", \".join(DiabetesDataFrame.loc[outlierPositions, attribute].astype(\"str\").array)\n",
    "    print(f\"{attribute} có {count} giá trị ngoại lai\")\n",
    "    if count != 0 :\n",
    "        print(f\"{elements}\")\n",
    "    else :\n",
    "        print(\"Không có giá trị ngoại lai\")\n",
    "    print(f\"{min_limit} < x < {max_limit}\")\n",
    "    print()"
   ]
  },
  {
   "cell_type": "markdown",
   "id": "7af73f5e",
   "metadata": {},
   "source": [
    "## Kiểm tuổi của các đối tượng có giá trị ngoại lai ở thuộc tính Pregnancies"
   ]
  },
  {
   "cell_type": "code",
   "execution_count": 6,
   "id": "1f3015f9",
   "metadata": {},
   "outputs": [
    {
     "data": {
      "text/html": [
       "<div>\n",
       "<style scoped>\n",
       "    .dataframe tbody tr th:only-of-type {\n",
       "        vertical-align: middle;\n",
       "    }\n",
       "\n",
       "    .dataframe tbody tr th {\n",
       "        vertical-align: top;\n",
       "    }\n",
       "\n",
       "    .dataframe thead th {\n",
       "        text-align: right;\n",
       "    }\n",
       "</style>\n",
       "<table border=\"1\" class=\"dataframe\">\n",
       "  <thead>\n",
       "    <tr style=\"text-align: right;\">\n",
       "      <th></th>\n",
       "      <th>Pregnancies</th>\n",
       "      <th>Glucose</th>\n",
       "      <th>BloodPressure</th>\n",
       "      <th>SkinThickness</th>\n",
       "      <th>Insulin</th>\n",
       "      <th>BMI</th>\n",
       "      <th>DiabetesPedigreeFunction</th>\n",
       "      <th>Age</th>\n",
       "      <th>Outcome</th>\n",
       "    </tr>\n",
       "  </thead>\n",
       "  <tbody>\n",
       "    <tr>\n",
       "      <th>88</th>\n",
       "      <td>15</td>\n",
       "      <td>136.0</td>\n",
       "      <td>70.0</td>\n",
       "      <td>32.0</td>\n",
       "      <td>110.0</td>\n",
       "      <td>37.1</td>\n",
       "      <td>0.153</td>\n",
       "      <td>43</td>\n",
       "      <td>1</td>\n",
       "    </tr>\n",
       "    <tr>\n",
       "      <th>159</th>\n",
       "      <td>17</td>\n",
       "      <td>163.0</td>\n",
       "      <td>72.0</td>\n",
       "      <td>41.0</td>\n",
       "      <td>114.0</td>\n",
       "      <td>40.9</td>\n",
       "      <td>0.817</td>\n",
       "      <td>47</td>\n",
       "      <td>1</td>\n",
       "    </tr>\n",
       "    <tr>\n",
       "      <th>298</th>\n",
       "      <td>14</td>\n",
       "      <td>100.0</td>\n",
       "      <td>78.0</td>\n",
       "      <td>25.0</td>\n",
       "      <td>184.0</td>\n",
       "      <td>36.6</td>\n",
       "      <td>0.412</td>\n",
       "      <td>46</td>\n",
       "      <td>1</td>\n",
       "    </tr>\n",
       "    <tr>\n",
       "      <th>455</th>\n",
       "      <td>14</td>\n",
       "      <td>175.0</td>\n",
       "      <td>62.0</td>\n",
       "      <td>30.0</td>\n",
       "      <td>110.0</td>\n",
       "      <td>33.6</td>\n",
       "      <td>0.212</td>\n",
       "      <td>38</td>\n",
       "      <td>1</td>\n",
       "    </tr>\n",
       "  </tbody>\n",
       "</table>\n",
       "</div>"
      ],
      "text/plain": [
       "     Pregnancies  Glucose  BloodPressure  SkinThickness  Insulin   BMI  \\\n",
       "88            15    136.0           70.0           32.0    110.0  37.1   \n",
       "159           17    163.0           72.0           41.0    114.0  40.9   \n",
       "298           14    100.0           78.0           25.0    184.0  36.6   \n",
       "455           14    175.0           62.0           30.0    110.0  33.6   \n",
       "\n",
       "     DiabetesPedigreeFunction  Age  Outcome  \n",
       "88                      0.153   43        1  \n",
       "159                     0.817   47        1  \n",
       "298                     0.412   46        1  \n",
       "455                     0.212   38        1  "
      ]
     },
     "execution_count": 6,
     "metadata": {},
     "output_type": "execute_result"
    }
   ],
   "source": [
    "DiabetesDataFrame.loc[DiabetesDataFrame[\"Pregnancies\"] >= 14, :] "
   ]
  },
  {
   "cell_type": "markdown",
   "id": "1519d94b",
   "metadata": {},
   "source": [
    "## Kiểm sự trùng lặp dòng"
   ]
  },
  {
   "cell_type": "code",
   "execution_count": 7,
   "id": "29f44940",
   "metadata": {},
   "outputs": [
    {
     "name": "stdout",
     "output_type": "stream",
     "text": [
      "Có 0 dòng trùng giá trị \n"
     ]
    }
   ],
   "source": [
    "numberOfDuplicates = DiabetesDataFrame.duplicated().sum()\n",
    "print(f\"Có {numberOfDuplicates} dòng trùng giá trị \")"
   ]
  },
  {
   "cell_type": "markdown",
   "id": "0f14d749",
   "metadata": {},
   "source": [
    "### Xem xét lỗi trùng các giá trị độc lập nhưng khác lớp"
   ]
  },
  {
   "cell_type": "code",
   "execution_count": 8,
   "id": "e3fac2b2",
   "metadata": {},
   "outputs": [
    {
     "name": "stdout",
     "output_type": "stream",
     "text": [
      "Số lượng dòng trùng giá trị biến độc lập 0\n"
     ]
    }
   ],
   "source": [
    "numberOfDulplicatesExceptOutcome = DiabetesDataFrame.loc[:, DiabetesDataFrame.columns != \"Outcome\"].duplicated().sum()\n",
    "print(f\"Số lượng dòng trùng giá trị biến độc lập {numberOfDulplicatesExceptOutcome}\")"
   ]
  },
  {
   "cell_type": "markdown",
   "id": "422a3035",
   "metadata": {},
   "source": [
    "## Phân tích ma trận tương quan mũ hai"
   ]
  },
  {
   "cell_type": "code",
   "execution_count": 9,
   "id": "10596b2c",
   "metadata": {},
   "outputs": [
    {
     "data": {
      "text/plain": [
       "<AxesSubplot: title={'center': 'Correlation^2'}>"
      ]
     },
     "execution_count": 9,
     "metadata": {},
     "output_type": "execute_result"
    },
    {
     "data": {
      "image/png": "[encoded data removed]",
      "text/plain": [
       "<Figure size 1000x500 with 2 Axes>"
      ]
     },
     "metadata": {},
     "output_type": "display_data"
    }
   ],
   "source": [
    "fig, axis = plt.subplots(nrows = 1, ncols = 1, figsize = (10,5))\n",
    "data = DiabetesDataFrame.corr().map(lambda r : r * r)\n",
    "axis.set_title(\"Correlation^2\")\n",
    "sn.heatmap(data = data, annot = True, ax = axis, cmap = \"crest\")"
   ]
  },
  {
   "cell_type": "markdown",
   "id": "cf930e6d",
   "metadata": {},
   "source": [
    "## Xây dựng mô hình"
   ]
  },
  {
   "cell_type": "markdown",
   "id": "29946afe",
   "metadata": {},
   "source": [
    "### Tạo ra training set và test set"
   ]
  },
  {
   "cell_type": "code",
   "execution_count": 10,
   "id": "527c4f71",
   "metadata": {},
   "outputs": [],
   "source": [
    "InputAttributes = [\"Pregnancies\", \"Glucose\", \"BloodPressure\", \"SkinThickness\", \"Insulin\", \"BMI\", \n",
    "                   \"DiabetesPedigreeFunction\", \"Age\"]\n",
    "OutputAttribute = \"Outcome\"\n",
    "X = DiabetesDataFrame.loc[:,InputAttributes]\n",
    "y = DiabetesDataFrame[OutputAttribute]\n",
    "\n",
    "X_train, X_test, y_train, y_test = train_test_split(X, y,test_size = 0.2, random_state = 42)"
   ]
  },
  {
   "cell_type": "markdown",
   "id": "e9332c5d",
   "metadata": {},
   "source": [
    "### Hàm xây dựng mô hình với tham số tốt nhất"
   ]
  },
  {
   "cell_type": "code",
   "execution_count": 11,
   "id": "6d06fbbe",
   "metadata": {},
   "outputs": [],
   "source": [
    "def buildModelWithBestParameters(estimator, param_grid, scoring, refit, X_train, y_train):\n",
    "    modelWithBestParameters = GridSearchCV(estimator = estimator,\n",
    "                                          param_grid = param_grid,\n",
    "                                           refit = refit)\n",
    "    modelWithBestParameters.fit(X_train, y_train)\n",
    "    return modelWithBestParameters"
   ]
  },
  {
   "cell_type": "markdown",
   "id": "17428621",
   "metadata": {},
   "source": [
    "### Chọn tiêu chí đánh giá và tiêu chí đánh giá quan trọng nhất"
   ]
  },
  {
   "cell_type": "code",
   "execution_count": 12,
   "id": "80f40458",
   "metadata": {},
   "outputs": [],
   "source": [
    "accuracy_score = make_scorer(accuracy_score)\n",
    "precisionScorer = make_scorer(precision_score, pos_label = 1)\n",
    "recallScorer = make_scorer(recall_score, pos_label = 1)\n",
    "F2Scorer = make_scorer(fbeta_score, beta = 2,pos_label = 1)\n",
    "\n",
    "scoring = [recallScorer, F2Scorer]\n",
    "refit = \"recall\""
   ]
  },
  {
   "cell_type": "markdown",
   "id": "03a9dd50",
   "metadata": {},
   "source": [
    "### Xây dựng mô hình Logit"
   ]
  },
  {
   "cell_type": "code",
   "execution_count": 13,
   "id": "36607089",
   "metadata": {},
   "outputs": [
    {
     "name": "stderr",
     "output_type": "stream",
     "text": [
      "C:\\Users\\Admin\\AppData\\Local\\Programs\\Python\\Python311\\Lib\\site-packages\\sklearn\\linear_model\\_sag.py:350: ConvergenceWarning: The max_iter was reached which means the coef_ did not converge\n",
      "  warnings.warn(\n",
      "C:\\Users\\Admin\\AppData\\Local\\Programs\\Python\\Python311\\Lib\\site-packages\\sklearn\\linear_model\\_sag.py:350: ConvergenceWarning: The max_iter was reached which means the coef_ did not converge\n",
      "  warnings.warn(\n",
      "C:\\Users\\Admin\\AppData\\Local\\Programs\\Python\\Python311\\Lib\\site-packages\\sklearn\\linear_model\\_sag.py:350: ConvergenceWarning: The max_iter was reached which means the coef_ did not converge\n",
      "  warnings.warn(\n",
      "C:\\Users\\Admin\\AppData\\Local\\Programs\\Python\\Python311\\Lib\\site-packages\\sklearn\\linear_model\\_sag.py:350: ConvergenceWarning: The max_iter was reached which means the coef_ did not converge\n",
      "  warnings.warn(\n",
      "C:\\Users\\Admin\\AppData\\Local\\Programs\\Python\\Python311\\Lib\\site-packages\\sklearn\\linear_model\\_sag.py:350: ConvergenceWarning: The max_iter was reached which means the coef_ did not converge\n",
      "  warnings.warn(\n",
      "C:\\Users\\Admin\\AppData\\Local\\Programs\\Python\\Python311\\Lib\\site-packages\\sklearn\\linear_model\\_sag.py:350: ConvergenceWarning: The max_iter was reached which means the coef_ did not converge\n",
      "  warnings.warn(\n",
      "C:\\Users\\Admin\\AppData\\Local\\Programs\\Python\\Python311\\Lib\\site-packages\\sklearn\\linear_model\\_sag.py:350: ConvergenceWarning: The max_iter was reached which means the coef_ did not converge\n",
      "  warnings.warn(\n",
      "C:\\Users\\Admin\\AppData\\Local\\Programs\\Python\\Python311\\Lib\\site-packages\\sklearn\\linear_model\\_sag.py:350: ConvergenceWarning: The max_iter was reached which means the coef_ did not converge\n",
      "  warnings.warn(\n",
      "C:\\Users\\Admin\\AppData\\Local\\Programs\\Python\\Python311\\Lib\\site-packages\\sklearn\\linear_model\\_sag.py:350: ConvergenceWarning: The max_iter was reached which means the coef_ did not converge\n",
      "  warnings.warn(\n",
      "C:\\Users\\Admin\\AppData\\Local\\Programs\\Python\\Python311\\Lib\\site-packages\\sklearn\\linear_model\\_sag.py:350: ConvergenceWarning: The max_iter was reached which means the coef_ did not converge\n",
      "  warnings.warn(\n",
      "C:\\Users\\Admin\\AppData\\Local\\Programs\\Python\\Python311\\Lib\\site-packages\\sklearn\\linear_model\\_sag.py:350: ConvergenceWarning: The max_iter was reached which means the coef_ did not converge\n",
      "  warnings.warn(\n",
      "C:\\Users\\Admin\\AppData\\Local\\Programs\\Python\\Python311\\Lib\\site-packages\\sklearn\\linear_model\\_sag.py:350: ConvergenceWarning: The max_iter was reached which means the coef_ did not converge\n",
      "  warnings.warn(\n",
      "C:\\Users\\Admin\\AppData\\Local\\Programs\\Python\\Python311\\Lib\\site-packages\\sklearn\\linear_model\\_sag.py:350: ConvergenceWarning: The max_iter was reached which means the coef_ did not converge\n",
      "  warnings.warn(\n",
      "C:\\Users\\Admin\\AppData\\Local\\Programs\\Python\\Python311\\Lib\\site-packages\\sklearn\\linear_model\\_sag.py:350: ConvergenceWarning: The max_iter was reached which means the coef_ did not converge\n",
      "  warnings.warn(\n",
      "C:\\Users\\Admin\\AppData\\Local\\Programs\\Python\\Python311\\Lib\\site-packages\\sklearn\\linear_model\\_sag.py:350: ConvergenceWarning: The max_iter was reached which means the coef_ did not converge\n",
      "  warnings.warn(\n",
      "C:\\Users\\Admin\\AppData\\Local\\Programs\\Python\\Python311\\Lib\\site-packages\\sklearn\\linear_model\\_sag.py:350: ConvergenceWarning: The max_iter was reached which means the coef_ did not converge\n",
      "  warnings.warn(\n",
      "C:\\Users\\Admin\\AppData\\Local\\Programs\\Python\\Python311\\Lib\\site-packages\\sklearn\\linear_model\\_sag.py:350: ConvergenceWarning: The max_iter was reached which means the coef_ did not converge\n",
      "  warnings.warn(\n",
      "C:\\Users\\Admin\\AppData\\Local\\Programs\\Python\\Python311\\Lib\\site-packages\\sklearn\\linear_model\\_sag.py:350: ConvergenceWarning: The max_iter was reached which means the coef_ did not converge\n",
      "  warnings.warn(\n",
      "C:\\Users\\Admin\\AppData\\Local\\Programs\\Python\\Python311\\Lib\\site-packages\\sklearn\\linear_model\\_sag.py:350: ConvergenceWarning: The max_iter was reached which means the coef_ did not converge\n",
      "  warnings.warn(\n",
      "C:\\Users\\Admin\\AppData\\Local\\Programs\\Python\\Python311\\Lib\\site-packages\\sklearn\\linear_model\\_sag.py:350: ConvergenceWarning: The max_iter was reached which means the coef_ did not converge\n",
      "  warnings.warn(\n",
      "C:\\Users\\Admin\\AppData\\Local\\Programs\\Python\\Python311\\Lib\\site-packages\\sklearn\\linear_model\\_sag.py:350: ConvergenceWarning: The max_iter was reached which means the coef_ did not converge\n",
      "  warnings.warn(\n",
      "C:\\Users\\Admin\\AppData\\Local\\Programs\\Python\\Python311\\Lib\\site-packages\\sklearn\\linear_model\\_sag.py:350: ConvergenceWarning: The max_iter was reached which means the coef_ did not converge\n",
      "  warnings.warn(\n",
      "C:\\Users\\Admin\\AppData\\Local\\Programs\\Python\\Python311\\Lib\\site-packages\\sklearn\\linear_model\\_sag.py:350: ConvergenceWarning: The max_iter was reached which means the coef_ did not converge\n",
      "  warnings.warn(\n",
      "C:\\Users\\Admin\\AppData\\Local\\Programs\\Python\\Python311\\Lib\\site-packages\\sklearn\\linear_model\\_sag.py:350: ConvergenceWarning: The max_iter was reached which means the coef_ did not converge\n",
      "  warnings.warn(\n",
      "C:\\Users\\Admin\\AppData\\Local\\Programs\\Python\\Python311\\Lib\\site-packages\\sklearn\\linear_model\\_sag.py:350: ConvergenceWarning: The max_iter was reached which means the coef_ did not converge\n",
      "  warnings.warn(\n",
      "C:\\Users\\Admin\\AppData\\Local\\Programs\\Python\\Python311\\Lib\\site-packages\\sklearn\\linear_model\\_sag.py:350: ConvergenceWarning: The max_iter was reached which means the coef_ did not converge\n",
      "  warnings.warn(\n",
      "C:\\Users\\Admin\\AppData\\Local\\Programs\\Python\\Python311\\Lib\\site-packages\\sklearn\\linear_model\\_sag.py:350: ConvergenceWarning: The max_iter was reached which means the coef_ did not converge\n",
      "  warnings.warn(\n",
      "C:\\Users\\Admin\\AppData\\Local\\Programs\\Python\\Python311\\Lib\\site-packages\\sklearn\\linear_model\\_sag.py:350: ConvergenceWarning: The max_iter was reached which means the coef_ did not converge\n",
      "  warnings.warn(\n",
      "C:\\Users\\Admin\\AppData\\Local\\Programs\\Python\\Python311\\Lib\\site-packages\\sklearn\\linear_model\\_sag.py:350: ConvergenceWarning: The max_iter was reached which means the coef_ did not converge\n",
      "  warnings.warn(\n",
      "C:\\Users\\Admin\\AppData\\Local\\Programs\\Python\\Python311\\Lib\\site-packages\\sklearn\\linear_model\\_sag.py:350: ConvergenceWarning: The max_iter was reached which means the coef_ did not converge\n",
      "  warnings.warn(\n",
      "C:\\Users\\Admin\\AppData\\Local\\Programs\\Python\\Python311\\Lib\\site-packages\\sklearn\\linear_model\\_sag.py:350: ConvergenceWarning: The max_iter was reached which means the coef_ did not converge\n",
      "  warnings.warn(\n",
      "C:\\Users\\Admin\\AppData\\Local\\Programs\\Python\\Python311\\Lib\\site-packages\\sklearn\\linear_model\\_sag.py:350: ConvergenceWarning: The max_iter was reached which means the coef_ did not converge\n",
      "  warnings.warn(\n",
      "C:\\Users\\Admin\\AppData\\Local\\Programs\\Python\\Python311\\Lib\\site-packages\\sklearn\\linear_model\\_sag.py:350: ConvergenceWarning: The max_iter was reached which means the coef_ did not converge\n",
      "  warnings.warn(\n",
      "C:\\Users\\Admin\\AppData\\Local\\Programs\\Python\\Python311\\Lib\\site-packages\\sklearn\\linear_model\\_sag.py:350: ConvergenceWarning: The max_iter was reached which means the coef_ did not converge\n",
      "  warnings.warn(\n",
      "C:\\Users\\Admin\\AppData\\Local\\Programs\\Python\\Python311\\Lib\\site-packages\\sklearn\\linear_model\\_sag.py:350: ConvergenceWarning: The max_iter was reached which means the coef_ did not converge\n",
      "  warnings.warn(\n",
      "C:\\Users\\Admin\\AppData\\Local\\Programs\\Python\\Python311\\Lib\\site-packages\\sklearn\\linear_model\\_sag.py:350: ConvergenceWarning: The max_iter was reached which means the coef_ did not converge\n",
      "  warnings.warn(\n",
      "C:\\Users\\Admin\\AppData\\Local\\Programs\\Python\\Python311\\Lib\\site-packages\\sklearn\\linear_model\\_sag.py:350: ConvergenceWarning: The max_iter was reached which means the coef_ did not converge\n",
      "  warnings.warn(\n",
      "C:\\Users\\Admin\\AppData\\Local\\Programs\\Python\\Python311\\Lib\\site-packages\\sklearn\\linear_model\\_sag.py:350: ConvergenceWarning: The max_iter was reached which means the coef_ did not converge\n",
      "  warnings.warn(\n",
      "C:\\Users\\Admin\\AppData\\Local\\Programs\\Python\\Python311\\Lib\\site-packages\\sklearn\\linear_model\\_sag.py:350: ConvergenceWarning: The max_iter was reached which means the coef_ did not converge\n",
      "  warnings.warn(\n",
      "C:\\Users\\Admin\\AppData\\Local\\Programs\\Python\\Python311\\Lib\\site-packages\\sklearn\\linear_model\\_sag.py:350: ConvergenceWarning: The max_iter was reached which means the coef_ did not converge\n",
      "  warnings.warn(\n"
     ]
    },
    {
     "name": "stderr",
     "output_type": "stream",
     "text": [
      "C:\\Users\\Admin\\AppData\\Local\\Programs\\Python\\Python311\\Lib\\site-packages\\sklearn\\linear_model\\_sag.py:350: ConvergenceWarning: The max_iter was reached which means the coef_ did not converge\n",
      "  warnings.warn(\n",
      "C:\\Users\\Admin\\AppData\\Local\\Programs\\Python\\Python311\\Lib\\site-packages\\sklearn\\linear_model\\_sag.py:350: ConvergenceWarning: The max_iter was reached which means the coef_ did not converge\n",
      "  warnings.warn(\n",
      "C:\\Users\\Admin\\AppData\\Local\\Programs\\Python\\Python311\\Lib\\site-packages\\sklearn\\linear_model\\_sag.py:350: ConvergenceWarning: The max_iter was reached which means the coef_ did not converge\n",
      "  warnings.warn(\n",
      "C:\\Users\\Admin\\AppData\\Local\\Programs\\Python\\Python311\\Lib\\site-packages\\sklearn\\linear_model\\_sag.py:350: ConvergenceWarning: The max_iter was reached which means the coef_ did not converge\n",
      "  warnings.warn(\n",
      "C:\\Users\\Admin\\AppData\\Local\\Programs\\Python\\Python311\\Lib\\site-packages\\sklearn\\linear_model\\_sag.py:350: ConvergenceWarning: The max_iter was reached which means the coef_ did not converge\n",
      "  warnings.warn(\n",
      "C:\\Users\\Admin\\AppData\\Local\\Programs\\Python\\Python311\\Lib\\site-packages\\sklearn\\linear_model\\_sag.py:350: ConvergenceWarning: The max_iter was reached which means the coef_ did not converge\n",
      "  warnings.warn(\n",
      "C:\\Users\\Admin\\AppData\\Local\\Programs\\Python\\Python311\\Lib\\site-packages\\sklearn\\linear_model\\_sag.py:350: ConvergenceWarning: The max_iter was reached which means the coef_ did not converge\n",
      "  warnings.warn(\n",
      "C:\\Users\\Admin\\AppData\\Local\\Programs\\Python\\Python311\\Lib\\site-packages\\sklearn\\linear_model\\_sag.py:350: ConvergenceWarning: The max_iter was reached which means the coef_ did not converge\n",
      "  warnings.warn(\n",
      "C:\\Users\\Admin\\AppData\\Local\\Programs\\Python\\Python311\\Lib\\site-packages\\sklearn\\linear_model\\_sag.py:350: ConvergenceWarning: The max_iter was reached which means the coef_ did not converge\n",
      "  warnings.warn(\n",
      "C:\\Users\\Admin\\AppData\\Local\\Programs\\Python\\Python311\\Lib\\site-packages\\sklearn\\linear_model\\_sag.py:350: ConvergenceWarning: The max_iter was reached which means the coef_ did not converge\n",
      "  warnings.warn(\n",
      "C:\\Users\\Admin\\AppData\\Local\\Programs\\Python\\Python311\\Lib\\site-packages\\sklearn\\linear_model\\_sag.py:350: ConvergenceWarning: The max_iter was reached which means the coef_ did not converge\n",
      "  warnings.warn(\n",
      "C:\\Users\\Admin\\AppData\\Local\\Programs\\Python\\Python311\\Lib\\site-packages\\sklearn\\linear_model\\_sag.py:350: ConvergenceWarning: The max_iter was reached which means the coef_ did not converge\n",
      "  warnings.warn(\n",
      "C:\\Users\\Admin\\AppData\\Local\\Programs\\Python\\Python311\\Lib\\site-packages\\sklearn\\linear_model\\_sag.py:350: ConvergenceWarning: The max_iter was reached which means the coef_ did not converge\n",
      "  warnings.warn(\n",
      "C:\\Users\\Admin\\AppData\\Local\\Programs\\Python\\Python311\\Lib\\site-packages\\sklearn\\linear_model\\_sag.py:350: ConvergenceWarning: The max_iter was reached which means the coef_ did not converge\n",
      "  warnings.warn(\n",
      "C:\\Users\\Admin\\AppData\\Local\\Programs\\Python\\Python311\\Lib\\site-packages\\sklearn\\linear_model\\_sag.py:350: ConvergenceWarning: The max_iter was reached which means the coef_ did not converge\n",
      "  warnings.warn(\n",
      "C:\\Users\\Admin\\AppData\\Local\\Programs\\Python\\Python311\\Lib\\site-packages\\sklearn\\linear_model\\_sag.py:350: ConvergenceWarning: The max_iter was reached which means the coef_ did not converge\n",
      "  warnings.warn(\n",
      "C:\\Users\\Admin\\AppData\\Local\\Programs\\Python\\Python311\\Lib\\site-packages\\sklearn\\linear_model\\_sag.py:350: ConvergenceWarning: The max_iter was reached which means the coef_ did not converge\n",
      "  warnings.warn(\n",
      "C:\\Users\\Admin\\AppData\\Local\\Programs\\Python\\Python311\\Lib\\site-packages\\sklearn\\linear_model\\_sag.py:350: ConvergenceWarning: The max_iter was reached which means the coef_ did not converge\n",
      "  warnings.warn(\n",
      "C:\\Users\\Admin\\AppData\\Local\\Programs\\Python\\Python311\\Lib\\site-packages\\sklearn\\linear_model\\_sag.py:350: ConvergenceWarning: The max_iter was reached which means the coef_ did not converge\n",
      "  warnings.warn(\n",
      "C:\\Users\\Admin\\AppData\\Local\\Programs\\Python\\Python311\\Lib\\site-packages\\sklearn\\linear_model\\_sag.py:350: ConvergenceWarning: The max_iter was reached which means the coef_ did not converge\n",
      "  warnings.warn(\n"
     ]
    }
   ],
   "source": [
    "LogitParamGrid = {\"solver\" : [\"lbfgs\", \"newton-cholesky\", \"sag\", \"saga\", \"newton-cg\"],\n",
    "                  \"max_iter\" : [1000,10000],\n",
    "                  \"class_weight\" : [None, \"balanced\", {0 : (500/ 768), 1: (268/768)} ],\n",
    "                  \"penalty\" : [\"l2\", None]\n",
    "                 }\n",
    "LogitModel = LogisticRegression()\n",
    "LogitModelWithBestParameters = buildModelWithBestParameters(estimator = LogitModel, \n",
    "                                                        param_grid = LogitParamGrid, \n",
    "                                                        scoring = scoring, \n",
    "                                                        refit = refit,\n",
    "                                                        X_train = X_train,\n",
    "                                                        y_train = y_train)"
   ]
  },
  {
   "cell_type": "markdown",
   "id": "35b4db4a",
   "metadata": {},
   "source": [
    "### Các tham số trong việc xây dựng mô hình Logit"
   ]
  },
  {
   "cell_type": "code",
   "execution_count": 14,
   "id": "097cc465",
   "metadata": {},
   "outputs": [
    {
     "name": "stdout",
     "output_type": "stream",
     "text": [
      "{'class_weight': None, 'max_iter': 1000, 'penalty': None, 'solver': 'lbfgs'}\n"
     ]
    }
   ],
   "source": [
    "print(LogitModelWithBestParameters.best_params_)"
   ]
  },
  {
   "cell_type": "markdown",
   "id": "d7c16b0e",
   "metadata": {},
   "source": [
    "### Hệ số của mô hình Logit"
   ]
  },
  {
   "cell_type": "code",
   "execution_count": 15,
   "id": "01509fa2",
   "metadata": {},
   "outputs": [
    {
     "data": {
      "text/html": [
       "<div>\n",
       "<style scoped>\n",
       "    .dataframe tbody tr th:only-of-type {\n",
       "        vertical-align: middle;\n",
       "    }\n",
       "\n",
       "    .dataframe tbody tr th {\n",
       "        vertical-align: top;\n",
       "    }\n",
       "\n",
       "    .dataframe thead th {\n",
       "        text-align: right;\n",
       "    }\n",
       "</style>\n",
       "<table border=\"1\" class=\"dataframe\">\n",
       "  <thead>\n",
       "    <tr style=\"text-align: right;\">\n",
       "      <th></th>\n",
       "      <th>Pregnancies</th>\n",
       "      <th>Glucose</th>\n",
       "      <th>BloodPressure</th>\n",
       "      <th>SkinThickness</th>\n",
       "      <th>Insulin</th>\n",
       "      <th>BMI</th>\n",
       "      <th>DiabetesPedigreeFunction</th>\n",
       "      <th>Age</th>\n",
       "      <th>Intercept</th>\n",
       "    </tr>\n",
       "  </thead>\n",
       "  <tbody>\n",
       "    <tr>\n",
       "      <th>Logit Model</th>\n",
       "      <td>0.067796</td>\n",
       "      <td>0.033832</td>\n",
       "      <td>-0.013196</td>\n",
       "      <td>0.012102</td>\n",
       "      <td>-0.000021</td>\n",
       "      <td>0.095077</td>\n",
       "      <td>0.622442</td>\n",
       "      <td>0.03485</td>\n",
       "      <td>-9.165083</td>\n",
       "    </tr>\n",
       "  </tbody>\n",
       "</table>\n",
       "</div>"
      ],
      "text/plain": [
       "            Pregnancies   Glucose BloodPressure SkinThickness   Insulin  \\\n",
       "Logit Model    0.067796  0.033832     -0.013196      0.012102 -0.000021   \n",
       "\n",
       "                  BMI DiabetesPedigreeFunction      Age  Intercept  \n",
       "Logit Model  0.095077                 0.622442  0.03485  -9.165083  "
      ]
     },
     "execution_count": 15,
     "metadata": {},
     "output_type": "execute_result"
    }
   ],
   "source": [
    "columns = LogitModelWithBestParameters.best_estimator_.feature_names_in_\n",
    "index = \"Logit Model\"\n",
    "coefficientsDataFrame = pd.DataFrame(index = [index] , columns = columns)\n",
    "\n",
    "coefficients = LogitModelWithBestParameters.best_estimator_.coef_[0]\n",
    "intercept = LogitModelWithBestParameters.best_estimator_.intercept_\n",
    "\n",
    "coefficientsDataFrame.loc[index, :] = coefficients\n",
    "coefficientsDataFrame.loc[index, \"Intercept\"] = intercept\n",
    "\n",
    "coefficientsDataFrame"
   ]
  },
  {
   "cell_type": "markdown",
   "id": "44ea6a2a",
   "metadata": {},
   "source": [
    "### Xây dựng mô hình K Nearest Neighbor"
   ]
  },
  {
   "cell_type": "code",
   "execution_count": 16,
   "id": "9083f3ce",
   "metadata": {},
   "outputs": [],
   "source": [
    "KNeighborParamGrid = {\"n_neighbors\" : [i for i in range(1,51)],\n",
    "                      \"weights\" : [\"uniform\", \"distance\"],\n",
    "                      \"p\" : [1,2,3,4,5]\n",
    "                     }\n",
    "KNeighborModel = KNeighborsClassifier()\n",
    "KNeighborModelWithBestParameters = buildModelWithBestParameters(estimator = KNeighborModel, \n",
    "                                                        param_grid = KNeighborParamGrid, \n",
    "                                                        scoring = scoring, \n",
    "                                                        refit = refit,\n",
    "                                                        X_train = X_train,\n",
    "                                                        y_train = y_train)\n"
   ]
  },
  {
   "cell_type": "markdown",
   "id": "55fa62b0",
   "metadata": {},
   "source": [
    "### Các tham số trong việc xây dựng mô hình K Nearest Neighbor"
   ]
  },
  {
   "cell_type": "code",
   "execution_count": 17,
   "id": "f307976a",
   "metadata": {},
   "outputs": [
    {
     "name": "stdout",
     "output_type": "stream",
     "text": [
      "{'n_neighbors': 48, 'p': 1, 'weights': 'distance'}\n"
     ]
    }
   ],
   "source": [
    "print(KNeighborModelWithBestParameters.best_params_)"
   ]
  },
  {
   "cell_type": "markdown",
   "id": "e5242da2",
   "metadata": {},
   "source": [
    "## Đánh giá mô hình"
   ]
  },
  {
   "cell_type": "markdown",
   "id": "00d13819",
   "metadata": {},
   "source": [
    "### Hàm đánh giá mô hình"
   ]
  },
  {
   "cell_type": "code",
   "execution_count": 18,
   "id": "2d49bdf0",
   "metadata": {},
   "outputs": [],
   "source": [
    "def returnMeasurements(model, X_test, y_test, modelName):\n",
    "    y_pred = model.predict(X_test)\n",
    "\n",
    "    accuracy = model.score(X_test, y_test) * 100\n",
    "    precision = precision_score(y_true = y_test, y_pred = y_pred) * 100\n",
    "    recall = recall_score(y_true = y_test, y_pred = y_pred) * 100\n",
    "    f2 = fbeta_score(y_true = y_test, y_pred = y_pred, beta = 2) * 100\n",
    "    \n",
    "    data = {\"Accuracy\" : accuracy, \n",
    "    \"Precision\" : precision,\n",
    "    \"Recall\" : recall,\n",
    "    \"f2\" : f2,\n",
    "    }\n",
    "    \n",
    "    measuresDataFrame = pd.DataFrame(data = data, index = [modelName])\n",
    "    return measuresDataFrame"
   ]
  },
  {
   "cell_type": "markdown",
   "id": "bd063436",
   "metadata": {},
   "source": [
    "### Giá trị của các tiêu chí đánh giá của các mô hình"
   ]
  },
  {
   "cell_type": "code",
   "execution_count": 19,
   "id": "adafa756",
   "metadata": {},
   "outputs": [
    {
     "data": {
      "text/html": [
       "<div>\n",
       "<style scoped>\n",
       "    .dataframe tbody tr th:only-of-type {\n",
       "        vertical-align: middle;\n",
       "    }\n",
       "\n",
       "    .dataframe tbody tr th {\n",
       "        vertical-align: top;\n",
       "    }\n",
       "\n",
       "    .dataframe thead th {\n",
       "        text-align: right;\n",
       "    }\n",
       "</style>\n",
       "<table border=\"1\" class=\"dataframe\">\n",
       "  <thead>\n",
       "    <tr style=\"text-align: right;\">\n",
       "      <th></th>\n",
       "      <th>Accuracy</th>\n",
       "      <th>Precision</th>\n",
       "      <th>Recall</th>\n",
       "      <th>f2</th>\n",
       "    </tr>\n",
       "  </thead>\n",
       "  <tbody>\n",
       "    <tr>\n",
       "      <th>Logit model</th>\n",
       "      <td>74.675325</td>\n",
       "      <td>65.384615</td>\n",
       "      <td>61.818182</td>\n",
       "      <td>62.500000</td>\n",
       "    </tr>\n",
       "    <tr>\n",
       "      <th>KNeighbor model</th>\n",
       "      <td>77.922078</td>\n",
       "      <td>76.923077</td>\n",
       "      <td>54.545455</td>\n",
       "      <td>57.915058</td>\n",
       "    </tr>\n",
       "  </tbody>\n",
       "</table>\n",
       "</div>"
      ],
      "text/plain": [
       "                  Accuracy  Precision     Recall         f2\n",
       "Logit model      74.675325  65.384615  61.818182  62.500000\n",
       "KNeighbor model  77.922078  76.923077  54.545455  57.915058"
      ]
     },
     "execution_count": 19,
     "metadata": {},
     "output_type": "execute_result"
    }
   ],
   "source": [
    "KNeighborModelMeasuresDataFrame = returnMeasurements(KNeighborModelWithBestParameters, X_test, y_test, \"KNeighbor model\")\n",
    "LogitModelMeasuresDataFrame = returnMeasurements(LogitModelWithBestParameters, X_test, y_test, \"Logit model\")\n",
    "\n",
    "MeasurementsDataFrame = pd.concat([LogitModelMeasuresDataFrame, KNeighborModelMeasuresDataFrame])\n",
    "MeasurementsDataFrame"
   ]
  },
  {
   "cell_type": "markdown",
   "id": "93eda847",
   "metadata": {},
   "source": [
    "### Biểu đồ thanh cho biết thông tin về các giá trị của các tiêu chí đánh giá của các mô hình"
   ]
  },
  {
   "cell_type": "code",
   "execution_count": 20,
   "id": "e29400b6",
   "metadata": {},
   "outputs": [
    {
     "data": {
      "text/plain": [
       "<AxesSubplot: ylabel='Phần trăm'>"
      ]
     },
     "execution_count": 20,
     "metadata": {},
     "output_type": "execute_result"
    },
    {
     "data": {
      "image/png": "[encoded data removed]",
      "text/plain": [
       "<Figure size 640x480 with 1 Axes>"
      ]
     },
     "metadata": {},
     "output_type": "display_data"
    }
   ],
   "source": [
    "minValue = MeasurementsDataFrame.loc[:, [\"Accuracy\", \"Precision\", \"Recall\", \"f2\"]].min().min()\n",
    "MeasurementsDataFrame.loc[:, [\"Accuracy\", \"Precision\", \"Recall\", \"f2\"]].plot.bar(ylim = (minValue - 5, 100), \n",
    "                                                                                 ylabel = \"Phần trăm\")"
   ]
  },
  {
   "cell_type": "markdown",
   "id": "3185bf60",
   "metadata": {},
   "source": [
    "### Biểu đồ thanh cho biết thông tin về các thời gian tiên đoán của các mô hình"
   ]
  },
  {
   "cell_type": "code",
   "execution_count": 21,
   "id": "7886e3bb",
   "metadata": {},
   "outputs": [
    {
     "data": {
      "text/plain": [
       "<BarContainer object of 2 artists>"
      ]
     },
     "execution_count": 21,
     "metadata": {},
     "output_type": "execute_result"
    },
    {
     "data": {
      "image/png": "[encoded data removed]",
      "text/plain": [
       "<Figure size 640x480 with 1 Axes>"
      ]
     },
     "metadata": {},
     "output_type": "display_data"
    }
   ],
   "source": [
    "def averagePredictionTime(model, X, y):\n",
    "    arr = []\n",
    "    for i in range(100):\n",
    "        X_train, X_test, y_train, y_test = train_test_split(X, y,test_size = 0.2, random_state = 42)\n",
    "        t1 = time.time()\n",
    "        model.predict(X_test)\n",
    "        t2 = time.time()\n",
    "        arr.append(t2 - t1)\n",
    "    return pd.Series(arr).mean()\n",
    "\n",
    "averagePredictionTimeForKNearestNeighbor = averagePredictionTime(KNeighborModelWithBestParameters, X, y)\n",
    "averagePredictionTimeForLogisticRegression = averagePredictionTime(LogitModelWithBestParameters, X, y)\n",
    "\n",
    "fig, axis = plt.subplots(nrows = 1, ncols = 1)\n",
    "axis.set_ylabel(\"Thời gian tiên đoán\")\n",
    "axis.bar([\"K Nearest Neighbor model\", \"Logit model\"], [averagePredictionTimeForKNearestNeighbor, \n",
    "                                                        averagePredictionTimeForLogisticRegression])"
   ]
  },
  {
   "cell_type": "markdown",
   "id": "235b48b5",
   "metadata": {},
   "source": [
    "### Hàm xóa dòng chứa giá trị ngoại lai"
   ]
  },
  {
   "cell_type": "code",
   "execution_count": 22,
   "id": "ef40c190",
   "metadata": {},
   "outputs": [],
   "source": [
    "def removeOutliersInTrainingSet(X, y):\n",
    "    for attribute in X.columns:\n",
    "        Q1 = X[attribute].quantile(0.25)\n",
    "        Q3 = X[attribute].quantile(0.75)\n",
    "        IQR = Q3 - Q1\n",
    "        \n",
    "        Min = Q1 - 1.5 * IQR\n",
    "        Max = Q3 + 1.5 * IQR\n",
    "        \n",
    "        outlierPositions = X[(X.loc[:, attribute] < Min) | (X.loc[:, attribute] > Max)].index\n",
    "        \n",
    "    return X.drop(outlierPositions), y.drop(outlierPositions)"
   ]
  },
  {
   "cell_type": "markdown",
   "id": "7cfb9c69",
   "metadata": {},
   "source": [
    "## Loại trừ giá trị ngoại lai trong tập training set"
   ]
  },
  {
   "cell_type": "code",
   "execution_count": 23,
   "id": "0caf5cb6",
   "metadata": {},
   "outputs": [],
   "source": [
    "X_train_without_outliers, y_train_without_outliers = removeOutliersInTrainingSet(X_train, y_train)"
   ]
  },
  {
   "cell_type": "markdown",
   "id": "29e081dd",
   "metadata": {},
   "source": [
    "## Xây dựng mô hình"
   ]
  },
  {
   "cell_type": "markdown",
   "id": "bc5b625e",
   "metadata": {},
   "source": [
    "### Xây dựng mô hình logit"
   ]
  },
  {
   "cell_type": "code",
   "execution_count": 24,
   "id": "0b850e76",
   "metadata": {},
   "outputs": [
    {
     "name": "stderr",
     "output_type": "stream",
     "text": [
      "C:\\Users\\Admin\\AppData\\Local\\Programs\\Python\\Python311\\Lib\\site-packages\\sklearn\\linear_model\\_sag.py:350: ConvergenceWarning: The max_iter was reached which means the coef_ did not converge\n",
      "  warnings.warn(\n",
      "C:\\Users\\Admin\\AppData\\Local\\Programs\\Python\\Python311\\Lib\\site-packages\\sklearn\\linear_model\\_sag.py:350: ConvergenceWarning: The max_iter was reached which means the coef_ did not converge\n",
      "  warnings.warn(\n",
      "C:\\Users\\Admin\\AppData\\Local\\Programs\\Python\\Python311\\Lib\\site-packages\\sklearn\\linear_model\\_sag.py:350: ConvergenceWarning: The max_iter was reached which means the coef_ did not converge\n",
      "  warnings.warn(\n",
      "C:\\Users\\Admin\\AppData\\Local\\Programs\\Python\\Python311\\Lib\\site-packages\\sklearn\\linear_model\\_sag.py:350: ConvergenceWarning: The max_iter was reached which means the coef_ did not converge\n",
      "  warnings.warn(\n",
      "C:\\Users\\Admin\\AppData\\Local\\Programs\\Python\\Python311\\Lib\\site-packages\\sklearn\\linear_model\\_sag.py:350: ConvergenceWarning: The max_iter was reached which means the coef_ did not converge\n",
      "  warnings.warn(\n",
      "C:\\Users\\Admin\\AppData\\Local\\Programs\\Python\\Python311\\Lib\\site-packages\\sklearn\\linear_model\\_sag.py:350: ConvergenceWarning: The max_iter was reached which means the coef_ did not converge\n",
      "  warnings.warn(\n",
      "C:\\Users\\Admin\\AppData\\Local\\Programs\\Python\\Python311\\Lib\\site-packages\\sklearn\\linear_model\\_sag.py:350: ConvergenceWarning: The max_iter was reached which means the coef_ did not converge\n",
      "  warnings.warn(\n",
      "C:\\Users\\Admin\\AppData\\Local\\Programs\\Python\\Python311\\Lib\\site-packages\\sklearn\\linear_model\\_sag.py:350: ConvergenceWarning: The max_iter was reached which means the coef_ did not converge\n",
      "  warnings.warn(\n",
      "C:\\Users\\Admin\\AppData\\Local\\Programs\\Python\\Python311\\Lib\\site-packages\\sklearn\\linear_model\\_sag.py:350: ConvergenceWarning: The max_iter was reached which means the coef_ did not converge\n",
      "  warnings.warn(\n",
      "C:\\Users\\Admin\\AppData\\Local\\Programs\\Python\\Python311\\Lib\\site-packages\\sklearn\\linear_model\\_sag.py:350: ConvergenceWarning: The max_iter was reached which means the coef_ did not converge\n",
      "  warnings.warn(\n",
      "C:\\Users\\Admin\\AppData\\Local\\Programs\\Python\\Python311\\Lib\\site-packages\\sklearn\\linear_model\\_sag.py:350: ConvergenceWarning: The max_iter was reached which means the coef_ did not converge\n",
      "  warnings.warn(\n",
      "C:\\Users\\Admin\\AppData\\Local\\Programs\\Python\\Python311\\Lib\\site-packages\\sklearn\\linear_model\\_sag.py:350: ConvergenceWarning: The max_iter was reached which means the coef_ did not converge\n",
      "  warnings.warn(\n",
      "C:\\Users\\Admin\\AppData\\Local\\Programs\\Python\\Python311\\Lib\\site-packages\\sklearn\\linear_model\\_sag.py:350: ConvergenceWarning: The max_iter was reached which means the coef_ did not converge\n",
      "  warnings.warn(\n",
      "C:\\Users\\Admin\\AppData\\Local\\Programs\\Python\\Python311\\Lib\\site-packages\\sklearn\\linear_model\\_sag.py:350: ConvergenceWarning: The max_iter was reached which means the coef_ did not converge\n",
      "  warnings.warn(\n",
      "C:\\Users\\Admin\\AppData\\Local\\Programs\\Python\\Python311\\Lib\\site-packages\\sklearn\\linear_model\\_sag.py:350: ConvergenceWarning: The max_iter was reached which means the coef_ did not converge\n",
      "  warnings.warn(\n",
      "C:\\Users\\Admin\\AppData\\Local\\Programs\\Python\\Python311\\Lib\\site-packages\\sklearn\\linear_model\\_sag.py:350: ConvergenceWarning: The max_iter was reached which means the coef_ did not converge\n",
      "  warnings.warn(\n",
      "C:\\Users\\Admin\\AppData\\Local\\Programs\\Python\\Python311\\Lib\\site-packages\\sklearn\\linear_model\\_sag.py:350: ConvergenceWarning: The max_iter was reached which means the coef_ did not converge\n",
      "  warnings.warn(\n",
      "C:\\Users\\Admin\\AppData\\Local\\Programs\\Python\\Python311\\Lib\\site-packages\\sklearn\\linear_model\\_sag.py:350: ConvergenceWarning: The max_iter was reached which means the coef_ did not converge\n",
      "  warnings.warn(\n",
      "C:\\Users\\Admin\\AppData\\Local\\Programs\\Python\\Python311\\Lib\\site-packages\\sklearn\\linear_model\\_sag.py:350: ConvergenceWarning: The max_iter was reached which means the coef_ did not converge\n",
      "  warnings.warn(\n",
      "C:\\Users\\Admin\\AppData\\Local\\Programs\\Python\\Python311\\Lib\\site-packages\\sklearn\\linear_model\\_sag.py:350: ConvergenceWarning: The max_iter was reached which means the coef_ did not converge\n",
      "  warnings.warn(\n",
      "C:\\Users\\Admin\\AppData\\Local\\Programs\\Python\\Python311\\Lib\\site-packages\\sklearn\\linear_model\\_sag.py:350: ConvergenceWarning: The max_iter was reached which means the coef_ did not converge\n",
      "  warnings.warn(\n",
      "C:\\Users\\Admin\\AppData\\Local\\Programs\\Python\\Python311\\Lib\\site-packages\\sklearn\\linear_model\\_sag.py:350: ConvergenceWarning: The max_iter was reached which means the coef_ did not converge\n",
      "  warnings.warn(\n",
      "C:\\Users\\Admin\\AppData\\Local\\Programs\\Python\\Python311\\Lib\\site-packages\\sklearn\\linear_model\\_sag.py:350: ConvergenceWarning: The max_iter was reached which means the coef_ did not converge\n",
      "  warnings.warn(\n",
      "C:\\Users\\Admin\\AppData\\Local\\Programs\\Python\\Python311\\Lib\\site-packages\\sklearn\\linear_model\\_sag.py:350: ConvergenceWarning: The max_iter was reached which means the coef_ did not converge\n",
      "  warnings.warn(\n",
      "C:\\Users\\Admin\\AppData\\Local\\Programs\\Python\\Python311\\Lib\\site-packages\\sklearn\\linear_model\\_sag.py:350: ConvergenceWarning: The max_iter was reached which means the coef_ did not converge\n",
      "  warnings.warn(\n",
      "C:\\Users\\Admin\\AppData\\Local\\Programs\\Python\\Python311\\Lib\\site-packages\\sklearn\\linear_model\\_sag.py:350: ConvergenceWarning: The max_iter was reached which means the coef_ did not converge\n",
      "  warnings.warn(\n",
      "C:\\Users\\Admin\\AppData\\Local\\Programs\\Python\\Python311\\Lib\\site-packages\\sklearn\\linear_model\\_sag.py:350: ConvergenceWarning: The max_iter was reached which means the coef_ did not converge\n",
      "  warnings.warn(\n",
      "C:\\Users\\Admin\\AppData\\Local\\Programs\\Python\\Python311\\Lib\\site-packages\\sklearn\\linear_model\\_sag.py:350: ConvergenceWarning: The max_iter was reached which means the coef_ did not converge\n",
      "  warnings.warn(\n",
      "C:\\Users\\Admin\\AppData\\Local\\Programs\\Python\\Python311\\Lib\\site-packages\\sklearn\\linear_model\\_sag.py:350: ConvergenceWarning: The max_iter was reached which means the coef_ did not converge\n",
      "  warnings.warn(\n",
      "C:\\Users\\Admin\\AppData\\Local\\Programs\\Python\\Python311\\Lib\\site-packages\\sklearn\\linear_model\\_sag.py:350: ConvergenceWarning: The max_iter was reached which means the coef_ did not converge\n",
      "  warnings.warn(\n",
      "C:\\Users\\Admin\\AppData\\Local\\Programs\\Python\\Python311\\Lib\\site-packages\\sklearn\\linear_model\\_sag.py:350: ConvergenceWarning: The max_iter was reached which means the coef_ did not converge\n",
      "  warnings.warn(\n",
      "C:\\Users\\Admin\\AppData\\Local\\Programs\\Python\\Python311\\Lib\\site-packages\\sklearn\\linear_model\\_sag.py:350: ConvergenceWarning: The max_iter was reached which means the coef_ did not converge\n",
      "  warnings.warn(\n",
      "C:\\Users\\Admin\\AppData\\Local\\Programs\\Python\\Python311\\Lib\\site-packages\\sklearn\\linear_model\\_sag.py:350: ConvergenceWarning: The max_iter was reached which means the coef_ did not converge\n",
      "  warnings.warn(\n",
      "C:\\Users\\Admin\\AppData\\Local\\Programs\\Python\\Python311\\Lib\\site-packages\\sklearn\\linear_model\\_sag.py:350: ConvergenceWarning: The max_iter was reached which means the coef_ did not converge\n",
      "  warnings.warn(\n",
      "C:\\Users\\Admin\\AppData\\Local\\Programs\\Python\\Python311\\Lib\\site-packages\\sklearn\\linear_model\\_sag.py:350: ConvergenceWarning: The max_iter was reached which means the coef_ did not converge\n",
      "  warnings.warn(\n",
      "C:\\Users\\Admin\\AppData\\Local\\Programs\\Python\\Python311\\Lib\\site-packages\\sklearn\\linear_model\\_sag.py:350: ConvergenceWarning: The max_iter was reached which means the coef_ did not converge\n",
      "  warnings.warn(\n",
      "C:\\Users\\Admin\\AppData\\Local\\Programs\\Python\\Python311\\Lib\\site-packages\\sklearn\\linear_model\\_sag.py:350: ConvergenceWarning: The max_iter was reached which means the coef_ did not converge\n",
      "  warnings.warn(\n",
      "C:\\Users\\Admin\\AppData\\Local\\Programs\\Python\\Python311\\Lib\\site-packages\\sklearn\\linear_model\\_sag.py:350: ConvergenceWarning: The max_iter was reached which means the coef_ did not converge\n",
      "  warnings.warn(\n",
      "C:\\Users\\Admin\\AppData\\Local\\Programs\\Python\\Python311\\Lib\\site-packages\\sklearn\\linear_model\\_sag.py:350: ConvergenceWarning: The max_iter was reached which means the coef_ did not converge\n",
      "  warnings.warn(\n",
      "C:\\Users\\Admin\\AppData\\Local\\Programs\\Python\\Python311\\Lib\\site-packages\\sklearn\\linear_model\\_sag.py:350: ConvergenceWarning: The max_iter was reached which means the coef_ did not converge\n",
      "  warnings.warn(\n"
     ]
    },
    {
     "name": "stderr",
     "output_type": "stream",
     "text": [
      "C:\\Users\\Admin\\AppData\\Local\\Programs\\Python\\Python311\\Lib\\site-packages\\sklearn\\linear_model\\_sag.py:350: ConvergenceWarning: The max_iter was reached which means the coef_ did not converge\n",
      "  warnings.warn(\n",
      "C:\\Users\\Admin\\AppData\\Local\\Programs\\Python\\Python311\\Lib\\site-packages\\sklearn\\linear_model\\_sag.py:350: ConvergenceWarning: The max_iter was reached which means the coef_ did not converge\n",
      "  warnings.warn(\n",
      "C:\\Users\\Admin\\AppData\\Local\\Programs\\Python\\Python311\\Lib\\site-packages\\sklearn\\linear_model\\_sag.py:350: ConvergenceWarning: The max_iter was reached which means the coef_ did not converge\n",
      "  warnings.warn(\n",
      "C:\\Users\\Admin\\AppData\\Local\\Programs\\Python\\Python311\\Lib\\site-packages\\sklearn\\linear_model\\_sag.py:350: ConvergenceWarning: The max_iter was reached which means the coef_ did not converge\n",
      "  warnings.warn(\n",
      "C:\\Users\\Admin\\AppData\\Local\\Programs\\Python\\Python311\\Lib\\site-packages\\sklearn\\linear_model\\_sag.py:350: ConvergenceWarning: The max_iter was reached which means the coef_ did not converge\n",
      "  warnings.warn(\n",
      "C:\\Users\\Admin\\AppData\\Local\\Programs\\Python\\Python311\\Lib\\site-packages\\sklearn\\linear_model\\_sag.py:350: ConvergenceWarning: The max_iter was reached which means the coef_ did not converge\n",
      "  warnings.warn(\n",
      "C:\\Users\\Admin\\AppData\\Local\\Programs\\Python\\Python311\\Lib\\site-packages\\sklearn\\linear_model\\_sag.py:350: ConvergenceWarning: The max_iter was reached which means the coef_ did not converge\n",
      "  warnings.warn(\n",
      "C:\\Users\\Admin\\AppData\\Local\\Programs\\Python\\Python311\\Lib\\site-packages\\sklearn\\linear_model\\_sag.py:350: ConvergenceWarning: The max_iter was reached which means the coef_ did not converge\n",
      "  warnings.warn(\n",
      "C:\\Users\\Admin\\AppData\\Local\\Programs\\Python\\Python311\\Lib\\site-packages\\sklearn\\linear_model\\_sag.py:350: ConvergenceWarning: The max_iter was reached which means the coef_ did not converge\n",
      "  warnings.warn(\n",
      "C:\\Users\\Admin\\AppData\\Local\\Programs\\Python\\Python311\\Lib\\site-packages\\sklearn\\linear_model\\_sag.py:350: ConvergenceWarning: The max_iter was reached which means the coef_ did not converge\n",
      "  warnings.warn(\n",
      "C:\\Users\\Admin\\AppData\\Local\\Programs\\Python\\Python311\\Lib\\site-packages\\sklearn\\linear_model\\_sag.py:350: ConvergenceWarning: The max_iter was reached which means the coef_ did not converge\n",
      "  warnings.warn(\n",
      "C:\\Users\\Admin\\AppData\\Local\\Programs\\Python\\Python311\\Lib\\site-packages\\sklearn\\linear_model\\_sag.py:350: ConvergenceWarning: The max_iter was reached which means the coef_ did not converge\n",
      "  warnings.warn(\n",
      "C:\\Users\\Admin\\AppData\\Local\\Programs\\Python\\Python311\\Lib\\site-packages\\sklearn\\linear_model\\_sag.py:350: ConvergenceWarning: The max_iter was reached which means the coef_ did not converge\n",
      "  warnings.warn(\n",
      "C:\\Users\\Admin\\AppData\\Local\\Programs\\Python\\Python311\\Lib\\site-packages\\sklearn\\linear_model\\_sag.py:350: ConvergenceWarning: The max_iter was reached which means the coef_ did not converge\n",
      "  warnings.warn(\n",
      "C:\\Users\\Admin\\AppData\\Local\\Programs\\Python\\Python311\\Lib\\site-packages\\sklearn\\linear_model\\_sag.py:350: ConvergenceWarning: The max_iter was reached which means the coef_ did not converge\n",
      "  warnings.warn(\n",
      "C:\\Users\\Admin\\AppData\\Local\\Programs\\Python\\Python311\\Lib\\site-packages\\sklearn\\linear_model\\_sag.py:350: ConvergenceWarning: The max_iter was reached which means the coef_ did not converge\n",
      "  warnings.warn(\n",
      "C:\\Users\\Admin\\AppData\\Local\\Programs\\Python\\Python311\\Lib\\site-packages\\sklearn\\linear_model\\_sag.py:350: ConvergenceWarning: The max_iter was reached which means the coef_ did not converge\n",
      "  warnings.warn(\n",
      "C:\\Users\\Admin\\AppData\\Local\\Programs\\Python\\Python311\\Lib\\site-packages\\sklearn\\linear_model\\_sag.py:350: ConvergenceWarning: The max_iter was reached which means the coef_ did not converge\n",
      "  warnings.warn(\n",
      "C:\\Users\\Admin\\AppData\\Local\\Programs\\Python\\Python311\\Lib\\site-packages\\sklearn\\linear_model\\_sag.py:350: ConvergenceWarning: The max_iter was reached which means the coef_ did not converge\n",
      "  warnings.warn(\n",
      "C:\\Users\\Admin\\AppData\\Local\\Programs\\Python\\Python311\\Lib\\site-packages\\sklearn\\linear_model\\_sag.py:350: ConvergenceWarning: The max_iter was reached which means the coef_ did not converge\n",
      "  warnings.warn(\n"
     ]
    }
   ],
   "source": [
    "LogitParamGrid = {\"solver\" : [\"lbfgs\", \"newton-cholesky\", \"sag\", \"saga\", \"newton-cg\"],\n",
    "                  \"max_iter\" : [1000,10000],\n",
    "                  \"class_weight\" : [None, \"balanced\", {0 : (500/ 768), 1: (268/768)} ],\n",
    "                  \"penalty\" : [\"l2\", None]\n",
    "                 }\n",
    "LogitModel = LogisticRegression()\n",
    "LogitModelWithBestParameters = buildModelWithBestParameters(estimator = LogitModel, \n",
    "                                                        param_grid = LogitParamGrid, \n",
    "                                                        scoring = scoring, \n",
    "                                                        refit = refit,\n",
    "                                                        X_train = X_train_without_outliers,\n",
    "                                                        y_train = y_train_without_outliers)"
   ]
  },
  {
   "cell_type": "code",
   "execution_count": 25,
   "id": "aae4d6cd",
   "metadata": {
    "scrolled": true
   },
   "outputs": [
    {
     "name": "stdout",
     "output_type": "stream",
     "text": [
      "{'class_weight': None, 'max_iter': 1000, 'penalty': 'l2', 'solver': 'lbfgs'}\n"
     ]
    }
   ],
   "source": [
    "print(LogitModelWithBestParameters.best_params_)"
   ]
  },
  {
   "cell_type": "code",
   "execution_count": 26,
   "id": "b481f789",
   "metadata": {
    "scrolled": true
   },
   "outputs": [
    {
     "name": "stdout",
     "output_type": "stream",
     "text": [
      "{'class_weight': None, 'max_iter': 1000, 'penalty': 'l2', 'solver': 'lbfgs'}\n"
     ]
    }
   ],
   "source": [
    "print(LogitModelWithBestParameters.best_params_)"
   ]
  },
  {
   "cell_type": "code",
   "execution_count": 27,
   "id": "7ad29321",
   "metadata": {},
   "outputs": [
    {
     "data": {
      "text/html": [
       "<div>\n",
       "<style scoped>\n",
       "    .dataframe tbody tr th:only-of-type {\n",
       "        vertical-align: middle;\n",
       "    }\n",
       "\n",
       "    .dataframe tbody tr th {\n",
       "        vertical-align: top;\n",
       "    }\n",
       "\n",
       "    .dataframe thead th {\n",
       "        text-align: right;\n",
       "    }\n",
       "</style>\n",
       "<table border=\"1\" class=\"dataframe\">\n",
       "  <thead>\n",
       "    <tr style=\"text-align: right;\">\n",
       "      <th></th>\n",
       "      <th>Pregnancies</th>\n",
       "      <th>Glucose</th>\n",
       "      <th>BloodPressure</th>\n",
       "      <th>SkinThickness</th>\n",
       "      <th>Insulin</th>\n",
       "      <th>BMI</th>\n",
       "      <th>DiabetesPedigreeFunction</th>\n",
       "      <th>Age</th>\n",
       "      <th>Intercept</th>\n",
       "    </tr>\n",
       "  </thead>\n",
       "  <tbody>\n",
       "    <tr>\n",
       "      <th>Logit Model</th>\n",
       "      <td>0.03372</td>\n",
       "      <td>0.03502</td>\n",
       "      <td>-0.017812</td>\n",
       "      <td>0.010871</td>\n",
       "      <td>-0.000373</td>\n",
       "      <td>0.094697</td>\n",
       "      <td>0.576629</td>\n",
       "      <td>0.060561</td>\n",
       "      <td>-9.52323</td>\n",
       "    </tr>\n",
       "  </tbody>\n",
       "</table>\n",
       "</div>"
      ],
      "text/plain": [
       "            Pregnancies  Glucose BloodPressure SkinThickness   Insulin  \\\n",
       "Logit Model     0.03372  0.03502     -0.017812      0.010871 -0.000373   \n",
       "\n",
       "                  BMI DiabetesPedigreeFunction       Age  Intercept  \n",
       "Logit Model  0.094697                 0.576629  0.060561   -9.52323  "
      ]
     },
     "execution_count": 27,
     "metadata": {},
     "output_type": "execute_result"
    }
   ],
   "source": [
    "columns = LogitModelWithBestParameters.best_estimator_.feature_names_in_\n",
    "index = \"Logit Model\"\n",
    "coefficientsDataFrame = pd.DataFrame(index = [index] , columns = columns)\n",
    "\n",
    "coefficients = LogitModelWithBestParameters.best_estimator_.coef_[0]\n",
    "intercept = LogitModelWithBestParameters.best_estimator_.intercept_\n",
    "\n",
    "coefficientsDataFrame.loc[index, :] = coefficients\n",
    "coefficientsDataFrame.loc[index, \"Intercept\"] = intercept\n",
    "\n",
    "coefficientsDataFrame"
   ]
  },
  {
   "cell_type": "markdown",
   "id": "137ce5b7",
   "metadata": {},
   "source": [
    "### Xây dựng mô hình K Nearest Classifier"
   ]
  },
  {
   "cell_type": "code",
   "execution_count": 28,
   "id": "967970ba",
   "metadata": {},
   "outputs": [],
   "source": [
    "KNeighborParamGrid = {\"n_neighbors\" : [i for i in range(1,51)],\n",
    "                      \"weights\" : [\"uniform\", \"distance\"],\n",
    "                      \"p\" : [1,2]\n",
    "                     }\n",
    "KNeighborModel = KNeighborsClassifier()\n",
    "KNeighborModelWithBestParameters = buildModelWithBestParameters(estimator = KNeighborModel, \n",
    "                                                        param_grid = KNeighborParamGrid, \n",
    "                                                        scoring = scoring, \n",
    "                                                        refit = refit,\n",
    "                                                        X_train = X_train_without_outliers,\n",
    "                                                        y_train = y_train_without_outliers)"
   ]
  },
  {
   "cell_type": "markdown",
   "id": "9ce7f46b",
   "metadata": {},
   "source": [
    "### Các tham số trong việc xây dựng mô hình K Nearest Neighbor"
   ]
  },
  {
   "cell_type": "code",
   "execution_count": 29,
   "id": "3d8d8388",
   "metadata": {},
   "outputs": [
    {
     "name": "stdout",
     "output_type": "stream",
     "text": [
      "{'n_neighbors': 17, 'p': 2, 'weights': 'uniform'}\n"
     ]
    }
   ],
   "source": [
    "print(KNeighborModelWithBestParameters.best_params_)"
   ]
  },
  {
   "cell_type": "markdown",
   "id": "9707cd52",
   "metadata": {},
   "source": [
    "## Đánh giá mô hình"
   ]
  },
  {
   "cell_type": "markdown",
   "id": "5cb910ee",
   "metadata": {},
   "source": [
    "### Giá trị của các tiêu chí đánh giá của các mô hình"
   ]
  },
  {
   "cell_type": "code",
   "execution_count": 30,
   "id": "03106ceb",
   "metadata": {},
   "outputs": [
    {
     "data": {
      "text/html": [
       "<div>\n",
       "<style scoped>\n",
       "    .dataframe tbody tr th:only-of-type {\n",
       "        vertical-align: middle;\n",
       "    }\n",
       "\n",
       "    .dataframe tbody tr th {\n",
       "        vertical-align: top;\n",
       "    }\n",
       "\n",
       "    .dataframe thead th {\n",
       "        text-align: right;\n",
       "    }\n",
       "</style>\n",
       "<table border=\"1\" class=\"dataframe\">\n",
       "  <thead>\n",
       "    <tr style=\"text-align: right;\">\n",
       "      <th></th>\n",
       "      <th>Accuracy</th>\n",
       "      <th>Precision</th>\n",
       "      <th>Recall</th>\n",
       "      <th>f2</th>\n",
       "    </tr>\n",
       "  </thead>\n",
       "  <tbody>\n",
       "    <tr>\n",
       "      <th>Logit model</th>\n",
       "      <td>70.129870</td>\n",
       "      <td>57.627119</td>\n",
       "      <td>61.818182</td>\n",
       "      <td>60.931900</td>\n",
       "    </tr>\n",
       "    <tr>\n",
       "      <th>KNeighbor model</th>\n",
       "      <td>76.623377</td>\n",
       "      <td>68.627451</td>\n",
       "      <td>63.636364</td>\n",
       "      <td>64.575646</td>\n",
       "    </tr>\n",
       "  </tbody>\n",
       "</table>\n",
       "</div>"
      ],
      "text/plain": [
       "                  Accuracy  Precision     Recall         f2\n",
       "Logit model      70.129870  57.627119  61.818182  60.931900\n",
       "KNeighbor model  76.623377  68.627451  63.636364  64.575646"
      ]
     },
     "execution_count": 30,
     "metadata": {},
     "output_type": "execute_result"
    }
   ],
   "source": [
    "KNeighborModelMeasuresDataFrame = returnMeasurements(KNeighborModelWithBestParameters, X_test, y_test, \"KNeighbor model\")\n",
    "LogitModelMeasuresDataFrame = returnMeasurements(LogitModelWithBestParameters, X_test, y_test, \"Logit model\")\n",
    "\n",
    "MeasurementsDataFrame = pd.concat([LogitModelMeasuresDataFrame, KNeighborModelMeasuresDataFrame])\n",
    "MeasurementsDataFrame"
   ]
  },
  {
   "cell_type": "markdown",
   "id": "d7d3b437",
   "metadata": {},
   "source": [
    "### Biểu đồ thanh cho biết thông tin về các giá trị của các tiêu chí đánh giá của các mô hình"
   ]
  },
  {
   "cell_type": "code",
   "execution_count": 31,
   "id": "42d6eaad",
   "metadata": {
    "scrolled": true
   },
   "outputs": [
    {
     "data": {
      "text/plain": [
       "<AxesSubplot: ylabel='Phần trăm'>"
      ]
     },
     "execution_count": 31,
     "metadata": {},
     "output_type": "execute_result"
    },
    {
     "data": {
      "image/png": "[encoded data removed]",
      "text/plain": [
       "<Figure size 640x480 with 1 Axes>"
      ]
     },
     "metadata": {},
     "output_type": "display_data"
    }
   ],
   "source": [
    "minValue = MeasurementsDataFrame.loc[:, [\"Accuracy\", \"Precision\", \"Recall\", \"f2\"]].min().min()\n",
    "MeasurementsDataFrame.loc[:, [\"Accuracy\", \"Precision\", \"Recall\", \"f2\"]].plot.bar(ylim = (minValue - 5, 100), \n",
    "                                                                                 ylabel = \"Phần trăm\")"
   ]
  },
  {
   "cell_type": "markdown",
   "id": "07949b7f",
   "metadata": {},
   "source": [
    "### Biểu đồ thanh cho biết thông tin về các thời gian tiên đoán của các mô hình"
   ]
  },
  {
   "cell_type": "code",
   "execution_count": 32,
   "id": "bf899a75",
   "metadata": {},
   "outputs": [
    {
     "data": {
      "text/plain": [
       "<BarContainer object of 2 artists>"
      ]
     },
     "execution_count": 32,
     "metadata": {},
     "output_type": "execute_result"
    },
    {
     "data": {
      "image/png": "[encoded data removed]",
      "text/plain": [
       "<Figure size 640x480 with 1 Axes>"
      ]
     },
     "metadata": {},
     "output_type": "display_data"
    }
   ],
   "source": [
    "def averagePredictionTime(model, X, y):\n",
    "    arr = []\n",
    "    for i in range(100):\n",
    "        X_train, X_test, y_train, y_test = train_test_split(X, y,test_size = 0.2, random_state = 42)\n",
    "        t1 = time.time()\n",
    "        model.predict(X_test)\n",
    "        t2 = time.time()\n",
    "        arr.append(t2 - t1)\n",
    "    return pd.Series(arr).mean()\n",
    "\n",
    "averagePredictionTimeForKNearestNeighbor = averagePredictionTime(KNeighborModelWithBestParameters, X, y)\n",
    "averagePredictionTimeForLogisticRegression = averagePredictionTime(LogitModelWithBestParameters, X, y)\n",
    "\n",
    "fig, axis = plt.subplots(nrows = 1, ncols = 1)\n",
    "axis.set_ylabel(\"Thời gian tiên đoán\")\n",
    "axis.bar([\"K Nearest Neighbor model\", \"Logit model\"], [averagePredictionTimeForKNearestNeighbor, \n",
    "                                                        averagePredictionTimeForLogisticRegression])"
   ]
  },
  {
   "cell_type": "markdown",
   "id": "21263047",
   "metadata": {},
   "source": [
    "## Làm cân bằng hai lớp trong training set"
   ]
  },
  {
   "cell_type": "code",
   "execution_count": 33,
   "id": "c360d073",
   "metadata": {},
   "outputs": [],
   "source": [
    "from imblearn.over_sampling import SMOTE\n",
    "sm = SMOTE(sampling_strategy = \"auto\", random_state = 42,k_neighbors = 10)\n",
    "X_train_balanced, y_train_balanced = sm.fit_resample(X_train, y_train)"
   ]
  },
  {
   "cell_type": "markdown",
   "id": "08418410",
   "metadata": {},
   "source": [
    "## Xây dựng mô hình"
   ]
  },
  {
   "cell_type": "markdown",
   "id": "8256b898",
   "metadata": {},
   "source": [
    "### Xây dựng mô hình Logit"
   ]
  },
  {
   "cell_type": "code",
   "execution_count": 34,
   "id": "a4829e4f",
   "metadata": {},
   "outputs": [
    {
     "name": "stderr",
     "output_type": "stream",
     "text": [
      "C:\\Users\\Admin\\AppData\\Local\\Programs\\Python\\Python311\\Lib\\site-packages\\sklearn\\linear_model\\_sag.py:350: ConvergenceWarning: The max_iter was reached which means the coef_ did not converge\n",
      "  warnings.warn(\n",
      "C:\\Users\\Admin\\AppData\\Local\\Programs\\Python\\Python311\\Lib\\site-packages\\sklearn\\linear_model\\_sag.py:350: ConvergenceWarning: The max_iter was reached which means the coef_ did not converge\n",
      "  warnings.warn(\n",
      "C:\\Users\\Admin\\AppData\\Local\\Programs\\Python\\Python311\\Lib\\site-packages\\sklearn\\linear_model\\_sag.py:350: ConvergenceWarning: The max_iter was reached which means the coef_ did not converge\n",
      "  warnings.warn(\n",
      "C:\\Users\\Admin\\AppData\\Local\\Programs\\Python\\Python311\\Lib\\site-packages\\sklearn\\linear_model\\_sag.py:350: ConvergenceWarning: The max_iter was reached which means the coef_ did not converge\n",
      "  warnings.warn(\n",
      "C:\\Users\\Admin\\AppData\\Local\\Programs\\Python\\Python311\\Lib\\site-packages\\sklearn\\linear_model\\_sag.py:350: ConvergenceWarning: The max_iter was reached which means the coef_ did not converge\n",
      "  warnings.warn(\n",
      "C:\\Users\\Admin\\AppData\\Local\\Programs\\Python\\Python311\\Lib\\site-packages\\sklearn\\linear_model\\_sag.py:350: ConvergenceWarning: The max_iter was reached which means the coef_ did not converge\n",
      "  warnings.warn(\n",
      "C:\\Users\\Admin\\AppData\\Local\\Programs\\Python\\Python311\\Lib\\site-packages\\sklearn\\linear_model\\_sag.py:350: ConvergenceWarning: The max_iter was reached which means the coef_ did not converge\n",
      "  warnings.warn(\n",
      "C:\\Users\\Admin\\AppData\\Local\\Programs\\Python\\Python311\\Lib\\site-packages\\sklearn\\linear_model\\_sag.py:350: ConvergenceWarning: The max_iter was reached which means the coef_ did not converge\n",
      "  warnings.warn(\n",
      "C:\\Users\\Admin\\AppData\\Local\\Programs\\Python\\Python311\\Lib\\site-packages\\sklearn\\linear_model\\_sag.py:350: ConvergenceWarning: The max_iter was reached which means the coef_ did not converge\n",
      "  warnings.warn(\n",
      "C:\\Users\\Admin\\AppData\\Local\\Programs\\Python\\Python311\\Lib\\site-packages\\sklearn\\linear_model\\_sag.py:350: ConvergenceWarning: The max_iter was reached which means the coef_ did not converge\n",
      "  warnings.warn(\n",
      "C:\\Users\\Admin\\AppData\\Local\\Programs\\Python\\Python311\\Lib\\site-packages\\sklearn\\linear_model\\_sag.py:350: ConvergenceWarning: The max_iter was reached which means the coef_ did not converge\n",
      "  warnings.warn(\n",
      "C:\\Users\\Admin\\AppData\\Local\\Programs\\Python\\Python311\\Lib\\site-packages\\sklearn\\linear_model\\_sag.py:350: ConvergenceWarning: The max_iter was reached which means the coef_ did not converge\n",
      "  warnings.warn(\n",
      "C:\\Users\\Admin\\AppData\\Local\\Programs\\Python\\Python311\\Lib\\site-packages\\sklearn\\linear_model\\_sag.py:350: ConvergenceWarning: The max_iter was reached which means the coef_ did not converge\n",
      "  warnings.warn(\n",
      "C:\\Users\\Admin\\AppData\\Local\\Programs\\Python\\Python311\\Lib\\site-packages\\sklearn\\linear_model\\_sag.py:350: ConvergenceWarning: The max_iter was reached which means the coef_ did not converge\n",
      "  warnings.warn(\n",
      "C:\\Users\\Admin\\AppData\\Local\\Programs\\Python\\Python311\\Lib\\site-packages\\sklearn\\linear_model\\_sag.py:350: ConvergenceWarning: The max_iter was reached which means the coef_ did not converge\n",
      "  warnings.warn(\n",
      "C:\\Users\\Admin\\AppData\\Local\\Programs\\Python\\Python311\\Lib\\site-packages\\sklearn\\linear_model\\_sag.py:350: ConvergenceWarning: The max_iter was reached which means the coef_ did not converge\n",
      "  warnings.warn(\n",
      "C:\\Users\\Admin\\AppData\\Local\\Programs\\Python\\Python311\\Lib\\site-packages\\sklearn\\linear_model\\_sag.py:350: ConvergenceWarning: The max_iter was reached which means the coef_ did not converge\n",
      "  warnings.warn(\n",
      "C:\\Users\\Admin\\AppData\\Local\\Programs\\Python\\Python311\\Lib\\site-packages\\sklearn\\linear_model\\_sag.py:350: ConvergenceWarning: The max_iter was reached which means the coef_ did not converge\n",
      "  warnings.warn(\n",
      "C:\\Users\\Admin\\AppData\\Local\\Programs\\Python\\Python311\\Lib\\site-packages\\sklearn\\linear_model\\_sag.py:350: ConvergenceWarning: The max_iter was reached which means the coef_ did not converge\n",
      "  warnings.warn(\n",
      "C:\\Users\\Admin\\AppData\\Local\\Programs\\Python\\Python311\\Lib\\site-packages\\sklearn\\linear_model\\_sag.py:350: ConvergenceWarning: The max_iter was reached which means the coef_ did not converge\n",
      "  warnings.warn(\n",
      "C:\\Users\\Admin\\AppData\\Local\\Programs\\Python\\Python311\\Lib\\site-packages\\sklearn\\linear_model\\_sag.py:350: ConvergenceWarning: The max_iter was reached which means the coef_ did not converge\n",
      "  warnings.warn(\n",
      "C:\\Users\\Admin\\AppData\\Local\\Programs\\Python\\Python311\\Lib\\site-packages\\sklearn\\linear_model\\_sag.py:350: ConvergenceWarning: The max_iter was reached which means the coef_ did not converge\n",
      "  warnings.warn(\n",
      "C:\\Users\\Admin\\AppData\\Local\\Programs\\Python\\Python311\\Lib\\site-packages\\sklearn\\linear_model\\_sag.py:350: ConvergenceWarning: The max_iter was reached which means the coef_ did not converge\n",
      "  warnings.warn(\n",
      "C:\\Users\\Admin\\AppData\\Local\\Programs\\Python\\Python311\\Lib\\site-packages\\sklearn\\linear_model\\_sag.py:350: ConvergenceWarning: The max_iter was reached which means the coef_ did not converge\n",
      "  warnings.warn(\n",
      "C:\\Users\\Admin\\AppData\\Local\\Programs\\Python\\Python311\\Lib\\site-packages\\sklearn\\linear_model\\_sag.py:350: ConvergenceWarning: The max_iter was reached which means the coef_ did not converge\n",
      "  warnings.warn(\n",
      "C:\\Users\\Admin\\AppData\\Local\\Programs\\Python\\Python311\\Lib\\site-packages\\sklearn\\linear_model\\_sag.py:350: ConvergenceWarning: The max_iter was reached which means the coef_ did not converge\n",
      "  warnings.warn(\n",
      "C:\\Users\\Admin\\AppData\\Local\\Programs\\Python\\Python311\\Lib\\site-packages\\sklearn\\linear_model\\_sag.py:350: ConvergenceWarning: The max_iter was reached which means the coef_ did not converge\n",
      "  warnings.warn(\n",
      "C:\\Users\\Admin\\AppData\\Local\\Programs\\Python\\Python311\\Lib\\site-packages\\sklearn\\linear_model\\_sag.py:350: ConvergenceWarning: The max_iter was reached which means the coef_ did not converge\n",
      "  warnings.warn(\n",
      "C:\\Users\\Admin\\AppData\\Local\\Programs\\Python\\Python311\\Lib\\site-packages\\sklearn\\linear_model\\_sag.py:350: ConvergenceWarning: The max_iter was reached which means the coef_ did not converge\n",
      "  warnings.warn(\n",
      "C:\\Users\\Admin\\AppData\\Local\\Programs\\Python\\Python311\\Lib\\site-packages\\sklearn\\linear_model\\_sag.py:350: ConvergenceWarning: The max_iter was reached which means the coef_ did not converge\n",
      "  warnings.warn(\n",
      "C:\\Users\\Admin\\AppData\\Local\\Programs\\Python\\Python311\\Lib\\site-packages\\sklearn\\linear_model\\_sag.py:350: ConvergenceWarning: The max_iter was reached which means the coef_ did not converge\n",
      "  warnings.warn(\n",
      "C:\\Users\\Admin\\AppData\\Local\\Programs\\Python\\Python311\\Lib\\site-packages\\sklearn\\linear_model\\_sag.py:350: ConvergenceWarning: The max_iter was reached which means the coef_ did not converge\n",
      "  warnings.warn(\n",
      "C:\\Users\\Admin\\AppData\\Local\\Programs\\Python\\Python311\\Lib\\site-packages\\sklearn\\linear_model\\_sag.py:350: ConvergenceWarning: The max_iter was reached which means the coef_ did not converge\n",
      "  warnings.warn(\n",
      "C:\\Users\\Admin\\AppData\\Local\\Programs\\Python\\Python311\\Lib\\site-packages\\sklearn\\linear_model\\_sag.py:350: ConvergenceWarning: The max_iter was reached which means the coef_ did not converge\n",
      "  warnings.warn(\n",
      "C:\\Users\\Admin\\AppData\\Local\\Programs\\Python\\Python311\\Lib\\site-packages\\sklearn\\linear_model\\_sag.py:350: ConvergenceWarning: The max_iter was reached which means the coef_ did not converge\n",
      "  warnings.warn(\n",
      "C:\\Users\\Admin\\AppData\\Local\\Programs\\Python\\Python311\\Lib\\site-packages\\sklearn\\linear_model\\_sag.py:350: ConvergenceWarning: The max_iter was reached which means the coef_ did not converge\n",
      "  warnings.warn(\n",
      "C:\\Users\\Admin\\AppData\\Local\\Programs\\Python\\Python311\\Lib\\site-packages\\sklearn\\linear_model\\_sag.py:350: ConvergenceWarning: The max_iter was reached which means the coef_ did not converge\n",
      "  warnings.warn(\n",
      "C:\\Users\\Admin\\AppData\\Local\\Programs\\Python\\Python311\\Lib\\site-packages\\sklearn\\linear_model\\_sag.py:350: ConvergenceWarning: The max_iter was reached which means the coef_ did not converge\n",
      "  warnings.warn(\n",
      "C:\\Users\\Admin\\AppData\\Local\\Programs\\Python\\Python311\\Lib\\site-packages\\sklearn\\linear_model\\_sag.py:350: ConvergenceWarning: The max_iter was reached which means the coef_ did not converge\n",
      "  warnings.warn(\n",
      "C:\\Users\\Admin\\AppData\\Local\\Programs\\Python\\Python311\\Lib\\site-packages\\sklearn\\linear_model\\_sag.py:350: ConvergenceWarning: The max_iter was reached which means the coef_ did not converge\n",
      "  warnings.warn(\n"
     ]
    },
    {
     "name": "stderr",
     "output_type": "stream",
     "text": [
      "C:\\Users\\Admin\\AppData\\Local\\Programs\\Python\\Python311\\Lib\\site-packages\\sklearn\\linear_model\\_sag.py:350: ConvergenceWarning: The max_iter was reached which means the coef_ did not converge\n",
      "  warnings.warn(\n",
      "C:\\Users\\Admin\\AppData\\Local\\Programs\\Python\\Python311\\Lib\\site-packages\\sklearn\\linear_model\\_sag.py:350: ConvergenceWarning: The max_iter was reached which means the coef_ did not converge\n",
      "  warnings.warn(\n",
      "C:\\Users\\Admin\\AppData\\Local\\Programs\\Python\\Python311\\Lib\\site-packages\\sklearn\\linear_model\\_sag.py:350: ConvergenceWarning: The max_iter was reached which means the coef_ did not converge\n",
      "  warnings.warn(\n",
      "C:\\Users\\Admin\\AppData\\Local\\Programs\\Python\\Python311\\Lib\\site-packages\\sklearn\\linear_model\\_sag.py:350: ConvergenceWarning: The max_iter was reached which means the coef_ did not converge\n",
      "  warnings.warn(\n",
      "C:\\Users\\Admin\\AppData\\Local\\Programs\\Python\\Python311\\Lib\\site-packages\\sklearn\\linear_model\\_sag.py:350: ConvergenceWarning: The max_iter was reached which means the coef_ did not converge\n",
      "  warnings.warn(\n",
      "C:\\Users\\Admin\\AppData\\Local\\Programs\\Python\\Python311\\Lib\\site-packages\\sklearn\\linear_model\\_sag.py:350: ConvergenceWarning: The max_iter was reached which means the coef_ did not converge\n",
      "  warnings.warn(\n",
      "C:\\Users\\Admin\\AppData\\Local\\Programs\\Python\\Python311\\Lib\\site-packages\\sklearn\\linear_model\\_sag.py:350: ConvergenceWarning: The max_iter was reached which means the coef_ did not converge\n",
      "  warnings.warn(\n",
      "C:\\Users\\Admin\\AppData\\Local\\Programs\\Python\\Python311\\Lib\\site-packages\\sklearn\\linear_model\\_sag.py:350: ConvergenceWarning: The max_iter was reached which means the coef_ did not converge\n",
      "  warnings.warn(\n",
      "C:\\Users\\Admin\\AppData\\Local\\Programs\\Python\\Python311\\Lib\\site-packages\\sklearn\\linear_model\\_sag.py:350: ConvergenceWarning: The max_iter was reached which means the coef_ did not converge\n",
      "  warnings.warn(\n",
      "C:\\Users\\Admin\\AppData\\Local\\Programs\\Python\\Python311\\Lib\\site-packages\\sklearn\\linear_model\\_sag.py:350: ConvergenceWarning: The max_iter was reached which means the coef_ did not converge\n",
      "  warnings.warn(\n",
      "C:\\Users\\Admin\\AppData\\Local\\Programs\\Python\\Python311\\Lib\\site-packages\\sklearn\\linear_model\\_sag.py:350: ConvergenceWarning: The max_iter was reached which means the coef_ did not converge\n",
      "  warnings.warn(\n",
      "C:\\Users\\Admin\\AppData\\Local\\Programs\\Python\\Python311\\Lib\\site-packages\\sklearn\\linear_model\\_sag.py:350: ConvergenceWarning: The max_iter was reached which means the coef_ did not converge\n",
      "  warnings.warn(\n",
      "C:\\Users\\Admin\\AppData\\Local\\Programs\\Python\\Python311\\Lib\\site-packages\\sklearn\\linear_model\\_sag.py:350: ConvergenceWarning: The max_iter was reached which means the coef_ did not converge\n",
      "  warnings.warn(\n",
      "C:\\Users\\Admin\\AppData\\Local\\Programs\\Python\\Python311\\Lib\\site-packages\\sklearn\\linear_model\\_sag.py:350: ConvergenceWarning: The max_iter was reached which means the coef_ did not converge\n",
      "  warnings.warn(\n",
      "C:\\Users\\Admin\\AppData\\Local\\Programs\\Python\\Python311\\Lib\\site-packages\\sklearn\\linear_model\\_sag.py:350: ConvergenceWarning: The max_iter was reached which means the coef_ did not converge\n",
      "  warnings.warn(\n",
      "C:\\Users\\Admin\\AppData\\Local\\Programs\\Python\\Python311\\Lib\\site-packages\\sklearn\\linear_model\\_sag.py:350: ConvergenceWarning: The max_iter was reached which means the coef_ did not converge\n",
      "  warnings.warn(\n",
      "C:\\Users\\Admin\\AppData\\Local\\Programs\\Python\\Python311\\Lib\\site-packages\\sklearn\\linear_model\\_sag.py:350: ConvergenceWarning: The max_iter was reached which means the coef_ did not converge\n",
      "  warnings.warn(\n",
      "C:\\Users\\Admin\\AppData\\Local\\Programs\\Python\\Python311\\Lib\\site-packages\\sklearn\\linear_model\\_sag.py:350: ConvergenceWarning: The max_iter was reached which means the coef_ did not converge\n",
      "  warnings.warn(\n",
      "C:\\Users\\Admin\\AppData\\Local\\Programs\\Python\\Python311\\Lib\\site-packages\\sklearn\\linear_model\\_sag.py:350: ConvergenceWarning: The max_iter was reached which means the coef_ did not converge\n",
      "  warnings.warn(\n",
      "C:\\Users\\Admin\\AppData\\Local\\Programs\\Python\\Python311\\Lib\\site-packages\\sklearn\\linear_model\\_sag.py:350: ConvergenceWarning: The max_iter was reached which means the coef_ did not converge\n",
      "  warnings.warn(\n"
     ]
    }
   ],
   "source": [
    "LogitParamGrid = {\"solver\" : [\"lbfgs\", \"newton-cholesky\", \"sag\", \"saga\", \"newton-cg\"],\n",
    "                  \"max_iter\" : [1000,10000],\n",
    "                  \"class_weight\" : [None, \"balanced\", {0 : (500/ 768), 1: (268/768)} ],\n",
    "                  \"penalty\" : [\"l2\", None]\n",
    "                 }\n",
    "LogitModel = LogisticRegression()\n",
    "LogitModelWithBestParameters = buildModelWithBestParameters(estimator = LogitModel, \n",
    "                                                        param_grid = LogitParamGrid, \n",
    "                                                        scoring = scoring, \n",
    "                                                        refit = refit,\n",
    "                                                        X_train = X_train_balanced,\n",
    "                                                        y_train = y_train_balanced)"
   ]
  },
  {
   "cell_type": "markdown",
   "id": "4da8bbac",
   "metadata": {},
   "source": [
    "### Các tham số trong việc xây dựng mô hình Logit"
   ]
  },
  {
   "cell_type": "code",
   "execution_count": 35,
   "id": "f0b84385",
   "metadata": {},
   "outputs": [
    {
     "name": "stdout",
     "output_type": "stream",
     "text": [
      "{'class_weight': 'balanced', 'max_iter': 1000, 'penalty': None, 'solver': 'lbfgs'}\n"
     ]
    }
   ],
   "source": [
    "print(LogitModelWithBestParameters.best_params_)"
   ]
  },
  {
   "cell_type": "markdown",
   "id": "a4b4c873",
   "metadata": {},
   "source": [
    "### Hệ số và hệ số chặn"
   ]
  },
  {
   "cell_type": "code",
   "execution_count": 36,
   "id": "7557d304",
   "metadata": {},
   "outputs": [
    {
     "data": {
      "text/html": [
       "<div>\n",
       "<style scoped>\n",
       "    .dataframe tbody tr th:only-of-type {\n",
       "        vertical-align: middle;\n",
       "    }\n",
       "\n",
       "    .dataframe tbody tr th {\n",
       "        vertical-align: top;\n",
       "    }\n",
       "\n",
       "    .dataframe thead th {\n",
       "        text-align: right;\n",
       "    }\n",
       "</style>\n",
       "<table border=\"1\" class=\"dataframe\">\n",
       "  <thead>\n",
       "    <tr style=\"text-align: right;\">\n",
       "      <th></th>\n",
       "      <th>Pregnancies</th>\n",
       "      <th>Glucose</th>\n",
       "      <th>BloodPressure</th>\n",
       "      <th>SkinThickness</th>\n",
       "      <th>Insulin</th>\n",
       "      <th>BMI</th>\n",
       "      <th>DiabetesPedigreeFunction</th>\n",
       "      <th>Age</th>\n",
       "      <th>Intercept</th>\n",
       "    </tr>\n",
       "  </thead>\n",
       "  <tbody>\n",
       "    <tr>\n",
       "      <th>Logit Model</th>\n",
       "      <td>0.066578</td>\n",
       "      <td>0.037042</td>\n",
       "      <td>-0.015699</td>\n",
       "      <td>0.015527</td>\n",
       "      <td>-0.000079</td>\n",
       "      <td>0.095957</td>\n",
       "      <td>0.933535</td>\n",
       "      <td>0.036304</td>\n",
       "      <td>-9.067609</td>\n",
       "    </tr>\n",
       "  </tbody>\n",
       "</table>\n",
       "</div>"
      ],
      "text/plain": [
       "            Pregnancies   Glucose BloodPressure SkinThickness   Insulin  \\\n",
       "Logit Model    0.066578  0.037042     -0.015699      0.015527 -0.000079   \n",
       "\n",
       "                  BMI DiabetesPedigreeFunction       Age  Intercept  \n",
       "Logit Model  0.095957                 0.933535  0.036304  -9.067609  "
      ]
     },
     "execution_count": 36,
     "metadata": {},
     "output_type": "execute_result"
    }
   ],
   "source": [
    "columns = LogitModelWithBestParameters.best_estimator_.feature_names_in_\n",
    "index = \"Logit Model\"\n",
    "coefficientsDataFrame = pd.DataFrame(index = [index] , columns = columns)\n",
    "\n",
    "coefficients = LogitModelWithBestParameters.best_estimator_.coef_[0]\n",
    "intercept = LogitModelWithBestParameters.best_estimator_.intercept_\n",
    "\n",
    "coefficientsDataFrame.loc[index, :] = coefficients\n",
    "coefficientsDataFrame.loc[index, \"Intercept\"] = intercept\n",
    "\n",
    "coefficientsDataFrame"
   ]
  },
  {
   "cell_type": "markdown",
   "id": "05587ca1",
   "metadata": {},
   "source": [
    "### Xây dựng mô hình K Nearest Neighbor"
   ]
  },
  {
   "cell_type": "code",
   "execution_count": 37,
   "id": "6ea4226e",
   "metadata": {},
   "outputs": [],
   "source": [
    "KNeighborParamGrid = {\"n_neighbors\" : [i for i in range(1,51)],\n",
    "                      \"weights\" : [\"uniform\", \"distance\"],\n",
    "                      \"p\" : [1,2]\n",
    "                     }\n",
    "KNeighborModel = KNeighborsClassifier()\n",
    "KNeighborModelWithBestParameters = buildModelWithBestParameters(estimator = KNeighborModel, \n",
    "                                                        param_grid = KNeighborParamGrid, \n",
    "                                                        scoring = scoring, \n",
    "                                                        refit = refit,\n",
    "                                                        X_train = X_train_balanced,\n",
    "                                                        y_train = y_train_balanced)"
   ]
  },
  {
   "cell_type": "markdown",
   "id": "30ff8ef3",
   "metadata": {},
   "source": [
    "### Các tham số trong việc xây dựng mô hình K Nearest Neighbor"
   ]
  },
  {
   "cell_type": "code",
   "execution_count": 38,
   "id": "6e969115",
   "metadata": {},
   "outputs": [
    {
     "name": "stdout",
     "output_type": "stream",
     "text": [
      "{'n_neighbors': 1, 'p': 1, 'weights': 'uniform'}\n"
     ]
    }
   ],
   "source": [
    "print(KNeighborModelWithBestParameters.best_params_)"
   ]
  },
  {
   "cell_type": "markdown",
   "id": "a8cf97c3",
   "metadata": {},
   "source": [
    "## Đánh giá mô hình"
   ]
  },
  {
   "cell_type": "markdown",
   "id": "175e5008",
   "metadata": {},
   "source": [
    "### Giá trị của các tiêu chí đánh giá của các mô hình"
   ]
  },
  {
   "cell_type": "code",
   "execution_count": 39,
   "id": "21b5e2c1",
   "metadata": {},
   "outputs": [
    {
     "data": {
      "text/html": [
       "<div>\n",
       "<style scoped>\n",
       "    .dataframe tbody tr th:only-of-type {\n",
       "        vertical-align: middle;\n",
       "    }\n",
       "\n",
       "    .dataframe tbody tr th {\n",
       "        vertical-align: top;\n",
       "    }\n",
       "\n",
       "    .dataframe thead th {\n",
       "        text-align: right;\n",
       "    }\n",
       "</style>\n",
       "<table border=\"1\" class=\"dataframe\">\n",
       "  <thead>\n",
       "    <tr style=\"text-align: right;\">\n",
       "      <th></th>\n",
       "      <th>Accuracy</th>\n",
       "      <th>Precision</th>\n",
       "      <th>Recall</th>\n",
       "      <th>f2</th>\n",
       "    </tr>\n",
       "  </thead>\n",
       "  <tbody>\n",
       "    <tr>\n",
       "      <th>Logit model</th>\n",
       "      <td>72.077922</td>\n",
       "      <td>58.571429</td>\n",
       "      <td>74.545455</td>\n",
       "      <td>70.689655</td>\n",
       "    </tr>\n",
       "    <tr>\n",
       "      <th>KNeighbor model</th>\n",
       "      <td>64.285714</td>\n",
       "      <td>50.000000</td>\n",
       "      <td>63.636364</td>\n",
       "      <td>60.344828</td>\n",
       "    </tr>\n",
       "  </tbody>\n",
       "</table>\n",
       "</div>"
      ],
      "text/plain": [
       "                  Accuracy  Precision     Recall         f2\n",
       "Logit model      72.077922  58.571429  74.545455  70.689655\n",
       "KNeighbor model  64.285714  50.000000  63.636364  60.344828"
      ]
     },
     "execution_count": 39,
     "metadata": {},
     "output_type": "execute_result"
    }
   ],
   "source": [
    "KNeighborModelMeasuresDataFrame = returnMeasurements(KNeighborModelWithBestParameters, X_test, y_test, \"KNeighbor model\")\n",
    "LogitModelMeasuresDataFrame = returnMeasurements(LogitModelWithBestParameters, X_test, y_test, \"Logit model\")\n",
    "\n",
    "MeasurementsDataFrame = pd.concat([LogitModelMeasuresDataFrame, KNeighborModelMeasuresDataFrame])\n",
    "MeasurementsDataFrame"
   ]
  },
  {
   "cell_type": "markdown",
   "id": "1f94171a",
   "metadata": {},
   "source": [
    "### Biểu đồ thanh cho biết thông tin về các giá trị của các tiêu chí đánh giá của các mô hình"
   ]
  },
  {
   "cell_type": "code",
   "execution_count": 40,
   "id": "374fdf98",
   "metadata": {},
   "outputs": [
    {
     "data": {
      "text/plain": [
       "<AxesSubplot: ylabel='Phần trăm'>"
      ]
     },
     "execution_count": 40,
     "metadata": {},
     "output_type": "execute_result"
    },
    {
     "data": {
      "image/png": "[encoded data removed]",
      "text/plain": [
       "<Figure size 640x480 with 1 Axes>"
      ]
     },
     "metadata": {},
     "output_type": "display_data"
    }
   ],
   "source": [
    "minValue = MeasurementsDataFrame.loc[:, [\"Accuracy\", \"Precision\", \"Recall\", \"f2\"]].min().min()\n",
    "MeasurementsDataFrame.loc[:, [\"Accuracy\", \"Precision\", \"Recall\", \"f2\"]].plot.bar(ylim = (minValue - 5, 100), \n",
    "                                                                                 ylabel = \"Phần trăm\")"
   ]
  },
  {
   "cell_type": "markdown",
   "id": "17d90614",
   "metadata": {},
   "source": [
    "### Biểu đồ thanh cho biết thông tin về các thời gian tiên đoán của các mô hình"
   ]
  },
  {
   "cell_type": "code",
   "execution_count": 41,
   "id": "fcf644fc",
   "metadata": {},
   "outputs": [
    {
     "data": {
      "text/plain": [
       "<BarContainer object of 2 artists>"
      ]
     },
     "execution_count": 41,
     "metadata": {},
     "output_type": "execute_result"
    },
    {
     "data": {
      "image/png": "[encoded data removed]",
      "text/plain": [
       "<Figure size 640x480 with 1 Axes>"
      ]
     },
     "metadata": {},
     "output_type": "display_data"
    }
   ],
   "source": [
    "def averagePredictionTime(model, X, y):\n",
    "    arr = []\n",
    "    for i in range(100):\n",
    "        X_train, X_test, y_train, y_test = train_test_split(X, y,test_size = 0.2, random_state = 42)\n",
    "        t1 = time.time()\n",
    "        model.predict(X_test)\n",
    "        t2 = time.time()\n",
    "        arr.append(t2 - t1)\n",
    "    return pd.Series(arr).mean()\n",
    "\n",
    "averagePredictionTimeForKNearestNeighbor = averagePredictionTime(KNeighborModelWithBestParameters, X, y)\n",
    "averagePredictionTimeForLogisticRegression = averagePredictionTime(LogitModelWithBestParameters, X, y)\n",
    "\n",
    "fig, axis = plt.subplots(nrows = 1, ncols = 1)\n",
    "axis.set_ylabel(\"Thời gian tiên đoán\")\n",
    "axis.bar([\"K Nearest Neighbor model\", \"Logit model\"], [averagePredictionTimeForKNearestNeighbor, \n",
    "                                                        averagePredictionTimeForLogisticRegression])"
   ]
  },
  {
   "cell_type": "markdown",
   "id": "a9070e33",
   "metadata": {},
   "source": [
    "## Loại trừ giá trị ngoại lai với số lượng lớp cân bằng"
   ]
  },
  {
   "cell_type": "code",
   "execution_count": 42,
   "id": "744f3cb6",
   "metadata": {},
   "outputs": [],
   "source": [
    "def removeOutliersInTrainingSet(X, y):\n",
    "    for attribute in X.columns:\n",
    "        Q1 = X[attribute].quantile(0.25)\n",
    "        Q3 = X[attribute].quantile(0.75)\n",
    "        IQR = Q3 - Q1\n",
    "        \n",
    "        Min = Q1 - 1.5 * IQR\n",
    "        Max = Q3 + 1.5 * IQR\n",
    "        \n",
    "        outlierPositions = X[(X.loc[:, attribute] < Min) | (X.loc[:, attribute] > Max)].index\n",
    "        \n",
    "    return X.drop(outlierPositions), y.drop(outlierPositions)"
   ]
  },
  {
   "cell_type": "code",
   "execution_count": 44,
   "id": "1db397be",
   "metadata": {},
   "outputs": [],
   "source": [
    "X_train_with_balanced_class_without_outliers, y_train_with_balanced_class_without_outliers = removeOutliersInTrainingSet(\n",
    "    X_train_balanced, y_train_balanced)"
   ]
  },
  {
   "cell_type": "markdown",
   "id": "a125be93",
   "metadata": {},
   "source": [
    "## Xây dựng mô hình"
   ]
  },
  {
   "cell_type": "markdown",
   "id": "81a230a6",
   "metadata": {},
   "source": [
    "### Xây dựng mô hình logit"
   ]
  },
  {
   "cell_type": "code",
   "execution_count": 45,
   "id": "06151fec",
   "metadata": {},
   "outputs": [
    {
     "name": "stderr",
     "output_type": "stream",
     "text": [
      "C:\\Users\\Admin\\AppData\\Local\\Programs\\Python\\Python311\\Lib\\site-packages\\sklearn\\linear_model\\_sag.py:350: ConvergenceWarning: The max_iter was reached which means the coef_ did not converge\n",
      "  warnings.warn(\n",
      "C:\\Users\\Admin\\AppData\\Local\\Programs\\Python\\Python311\\Lib\\site-packages\\sklearn\\linear_model\\_sag.py:350: ConvergenceWarning: The max_iter was reached which means the coef_ did not converge\n",
      "  warnings.warn(\n",
      "C:\\Users\\Admin\\AppData\\Local\\Programs\\Python\\Python311\\Lib\\site-packages\\sklearn\\linear_model\\_sag.py:350: ConvergenceWarning: The max_iter was reached which means the coef_ did not converge\n",
      "  warnings.warn(\n",
      "C:\\Users\\Admin\\AppData\\Local\\Programs\\Python\\Python311\\Lib\\site-packages\\sklearn\\linear_model\\_sag.py:350: ConvergenceWarning: The max_iter was reached which means the coef_ did not converge\n",
      "  warnings.warn(\n",
      "C:\\Users\\Admin\\AppData\\Local\\Programs\\Python\\Python311\\Lib\\site-packages\\sklearn\\linear_model\\_sag.py:350: ConvergenceWarning: The max_iter was reached which means the coef_ did not converge\n",
      "  warnings.warn(\n",
      "C:\\Users\\Admin\\AppData\\Local\\Programs\\Python\\Python311\\Lib\\site-packages\\sklearn\\linear_model\\_sag.py:350: ConvergenceWarning: The max_iter was reached which means the coef_ did not converge\n",
      "  warnings.warn(\n",
      "C:\\Users\\Admin\\AppData\\Local\\Programs\\Python\\Python311\\Lib\\site-packages\\sklearn\\linear_model\\_sag.py:350: ConvergenceWarning: The max_iter was reached which means the coef_ did not converge\n",
      "  warnings.warn(\n",
      "C:\\Users\\Admin\\AppData\\Local\\Programs\\Python\\Python311\\Lib\\site-packages\\sklearn\\linear_model\\_sag.py:350: ConvergenceWarning: The max_iter was reached which means the coef_ did not converge\n",
      "  warnings.warn(\n",
      "C:\\Users\\Admin\\AppData\\Local\\Programs\\Python\\Python311\\Lib\\site-packages\\sklearn\\linear_model\\_sag.py:350: ConvergenceWarning: The max_iter was reached which means the coef_ did not converge\n",
      "  warnings.warn(\n",
      "C:\\Users\\Admin\\AppData\\Local\\Programs\\Python\\Python311\\Lib\\site-packages\\sklearn\\linear_model\\_sag.py:350: ConvergenceWarning: The max_iter was reached which means the coef_ did not converge\n",
      "  warnings.warn(\n",
      "C:\\Users\\Admin\\AppData\\Local\\Programs\\Python\\Python311\\Lib\\site-packages\\sklearn\\linear_model\\_sag.py:350: ConvergenceWarning: The max_iter was reached which means the coef_ did not converge\n",
      "  warnings.warn(\n",
      "C:\\Users\\Admin\\AppData\\Local\\Programs\\Python\\Python311\\Lib\\site-packages\\sklearn\\linear_model\\_sag.py:350: ConvergenceWarning: The max_iter was reached which means the coef_ did not converge\n",
      "  warnings.warn(\n",
      "C:\\Users\\Admin\\AppData\\Local\\Programs\\Python\\Python311\\Lib\\site-packages\\sklearn\\linear_model\\_sag.py:350: ConvergenceWarning: The max_iter was reached which means the coef_ did not converge\n",
      "  warnings.warn(\n",
      "C:\\Users\\Admin\\AppData\\Local\\Programs\\Python\\Python311\\Lib\\site-packages\\sklearn\\linear_model\\_sag.py:350: ConvergenceWarning: The max_iter was reached which means the coef_ did not converge\n",
      "  warnings.warn(\n",
      "C:\\Users\\Admin\\AppData\\Local\\Programs\\Python\\Python311\\Lib\\site-packages\\sklearn\\linear_model\\_sag.py:350: ConvergenceWarning: The max_iter was reached which means the coef_ did not converge\n",
      "  warnings.warn(\n",
      "C:\\Users\\Admin\\AppData\\Local\\Programs\\Python\\Python311\\Lib\\site-packages\\sklearn\\linear_model\\_sag.py:350: ConvergenceWarning: The max_iter was reached which means the coef_ did not converge\n",
      "  warnings.warn(\n",
      "C:\\Users\\Admin\\AppData\\Local\\Programs\\Python\\Python311\\Lib\\site-packages\\sklearn\\linear_model\\_sag.py:350: ConvergenceWarning: The max_iter was reached which means the coef_ did not converge\n",
      "  warnings.warn(\n",
      "C:\\Users\\Admin\\AppData\\Local\\Programs\\Python\\Python311\\Lib\\site-packages\\sklearn\\linear_model\\_sag.py:350: ConvergenceWarning: The max_iter was reached which means the coef_ did not converge\n",
      "  warnings.warn(\n",
      "C:\\Users\\Admin\\AppData\\Local\\Programs\\Python\\Python311\\Lib\\site-packages\\sklearn\\linear_model\\_sag.py:350: ConvergenceWarning: The max_iter was reached which means the coef_ did not converge\n",
      "  warnings.warn(\n",
      "C:\\Users\\Admin\\AppData\\Local\\Programs\\Python\\Python311\\Lib\\site-packages\\sklearn\\linear_model\\_sag.py:350: ConvergenceWarning: The max_iter was reached which means the coef_ did not converge\n",
      "  warnings.warn(\n",
      "C:\\Users\\Admin\\AppData\\Local\\Programs\\Python\\Python311\\Lib\\site-packages\\sklearn\\linear_model\\_sag.py:350: ConvergenceWarning: The max_iter was reached which means the coef_ did not converge\n",
      "  warnings.warn(\n",
      "C:\\Users\\Admin\\AppData\\Local\\Programs\\Python\\Python311\\Lib\\site-packages\\sklearn\\linear_model\\_sag.py:350: ConvergenceWarning: The max_iter was reached which means the coef_ did not converge\n",
      "  warnings.warn(\n",
      "C:\\Users\\Admin\\AppData\\Local\\Programs\\Python\\Python311\\Lib\\site-packages\\sklearn\\linear_model\\_sag.py:350: ConvergenceWarning: The max_iter was reached which means the coef_ did not converge\n",
      "  warnings.warn(\n",
      "C:\\Users\\Admin\\AppData\\Local\\Programs\\Python\\Python311\\Lib\\site-packages\\sklearn\\linear_model\\_sag.py:350: ConvergenceWarning: The max_iter was reached which means the coef_ did not converge\n",
      "  warnings.warn(\n",
      "C:\\Users\\Admin\\AppData\\Local\\Programs\\Python\\Python311\\Lib\\site-packages\\sklearn\\linear_model\\_sag.py:350: ConvergenceWarning: The max_iter was reached which means the coef_ did not converge\n",
      "  warnings.warn(\n",
      "C:\\Users\\Admin\\AppData\\Local\\Programs\\Python\\Python311\\Lib\\site-packages\\sklearn\\linear_model\\_sag.py:350: ConvergenceWarning: The max_iter was reached which means the coef_ did not converge\n",
      "  warnings.warn(\n",
      "C:\\Users\\Admin\\AppData\\Local\\Programs\\Python\\Python311\\Lib\\site-packages\\sklearn\\linear_model\\_sag.py:350: ConvergenceWarning: The max_iter was reached which means the coef_ did not converge\n",
      "  warnings.warn(\n",
      "C:\\Users\\Admin\\AppData\\Local\\Programs\\Python\\Python311\\Lib\\site-packages\\sklearn\\linear_model\\_sag.py:350: ConvergenceWarning: The max_iter was reached which means the coef_ did not converge\n",
      "  warnings.warn(\n",
      "C:\\Users\\Admin\\AppData\\Local\\Programs\\Python\\Python311\\Lib\\site-packages\\sklearn\\linear_model\\_sag.py:350: ConvergenceWarning: The max_iter was reached which means the coef_ did not converge\n",
      "  warnings.warn(\n",
      "C:\\Users\\Admin\\AppData\\Local\\Programs\\Python\\Python311\\Lib\\site-packages\\sklearn\\linear_model\\_sag.py:350: ConvergenceWarning: The max_iter was reached which means the coef_ did not converge\n",
      "  warnings.warn(\n",
      "C:\\Users\\Admin\\AppData\\Local\\Programs\\Python\\Python311\\Lib\\site-packages\\sklearn\\linear_model\\_sag.py:350: ConvergenceWarning: The max_iter was reached which means the coef_ did not converge\n",
      "  warnings.warn(\n",
      "C:\\Users\\Admin\\AppData\\Local\\Programs\\Python\\Python311\\Lib\\site-packages\\sklearn\\linear_model\\_sag.py:350: ConvergenceWarning: The max_iter was reached which means the coef_ did not converge\n",
      "  warnings.warn(\n",
      "C:\\Users\\Admin\\AppData\\Local\\Programs\\Python\\Python311\\Lib\\site-packages\\sklearn\\linear_model\\_sag.py:350: ConvergenceWarning: The max_iter was reached which means the coef_ did not converge\n",
      "  warnings.warn(\n",
      "C:\\Users\\Admin\\AppData\\Local\\Programs\\Python\\Python311\\Lib\\site-packages\\sklearn\\linear_model\\_sag.py:350: ConvergenceWarning: The max_iter was reached which means the coef_ did not converge\n",
      "  warnings.warn(\n",
      "C:\\Users\\Admin\\AppData\\Local\\Programs\\Python\\Python311\\Lib\\site-packages\\sklearn\\linear_model\\_sag.py:350: ConvergenceWarning: The max_iter was reached which means the coef_ did not converge\n",
      "  warnings.warn(\n",
      "C:\\Users\\Admin\\AppData\\Local\\Programs\\Python\\Python311\\Lib\\site-packages\\sklearn\\linear_model\\_sag.py:350: ConvergenceWarning: The max_iter was reached which means the coef_ did not converge\n",
      "  warnings.warn(\n",
      "C:\\Users\\Admin\\AppData\\Local\\Programs\\Python\\Python311\\Lib\\site-packages\\sklearn\\linear_model\\_sag.py:350: ConvergenceWarning: The max_iter was reached which means the coef_ did not converge\n",
      "  warnings.warn(\n",
      "C:\\Users\\Admin\\AppData\\Local\\Programs\\Python\\Python311\\Lib\\site-packages\\sklearn\\linear_model\\_sag.py:350: ConvergenceWarning: The max_iter was reached which means the coef_ did not converge\n",
      "  warnings.warn(\n",
      "C:\\Users\\Admin\\AppData\\Local\\Programs\\Python\\Python311\\Lib\\site-packages\\sklearn\\linear_model\\_sag.py:350: ConvergenceWarning: The max_iter was reached which means the coef_ did not converge\n",
      "  warnings.warn(\n",
      "C:\\Users\\Admin\\AppData\\Local\\Programs\\Python\\Python311\\Lib\\site-packages\\sklearn\\linear_model\\_sag.py:350: ConvergenceWarning: The max_iter was reached which means the coef_ did not converge\n",
      "  warnings.warn(\n"
     ]
    },
    {
     "name": "stderr",
     "output_type": "stream",
     "text": [
      "C:\\Users\\Admin\\AppData\\Local\\Programs\\Python\\Python311\\Lib\\site-packages\\sklearn\\linear_model\\_sag.py:350: ConvergenceWarning: The max_iter was reached which means the coef_ did not converge\n",
      "  warnings.warn(\n",
      "C:\\Users\\Admin\\AppData\\Local\\Programs\\Python\\Python311\\Lib\\site-packages\\sklearn\\linear_model\\_sag.py:350: ConvergenceWarning: The max_iter was reached which means the coef_ did not converge\n",
      "  warnings.warn(\n",
      "C:\\Users\\Admin\\AppData\\Local\\Programs\\Python\\Python311\\Lib\\site-packages\\sklearn\\linear_model\\_sag.py:350: ConvergenceWarning: The max_iter was reached which means the coef_ did not converge\n",
      "  warnings.warn(\n",
      "C:\\Users\\Admin\\AppData\\Local\\Programs\\Python\\Python311\\Lib\\site-packages\\sklearn\\linear_model\\_sag.py:350: ConvergenceWarning: The max_iter was reached which means the coef_ did not converge\n",
      "  warnings.warn(\n",
      "C:\\Users\\Admin\\AppData\\Local\\Programs\\Python\\Python311\\Lib\\site-packages\\sklearn\\linear_model\\_sag.py:350: ConvergenceWarning: The max_iter was reached which means the coef_ did not converge\n",
      "  warnings.warn(\n",
      "C:\\Users\\Admin\\AppData\\Local\\Programs\\Python\\Python311\\Lib\\site-packages\\sklearn\\linear_model\\_sag.py:350: ConvergenceWarning: The max_iter was reached which means the coef_ did not converge\n",
      "  warnings.warn(\n",
      "C:\\Users\\Admin\\AppData\\Local\\Programs\\Python\\Python311\\Lib\\site-packages\\sklearn\\linear_model\\_sag.py:350: ConvergenceWarning: The max_iter was reached which means the coef_ did not converge\n",
      "  warnings.warn(\n",
      "C:\\Users\\Admin\\AppData\\Local\\Programs\\Python\\Python311\\Lib\\site-packages\\sklearn\\linear_model\\_sag.py:350: ConvergenceWarning: The max_iter was reached which means the coef_ did not converge\n",
      "  warnings.warn(\n",
      "C:\\Users\\Admin\\AppData\\Local\\Programs\\Python\\Python311\\Lib\\site-packages\\sklearn\\linear_model\\_sag.py:350: ConvergenceWarning: The max_iter was reached which means the coef_ did not converge\n",
      "  warnings.warn(\n",
      "C:\\Users\\Admin\\AppData\\Local\\Programs\\Python\\Python311\\Lib\\site-packages\\sklearn\\linear_model\\_sag.py:350: ConvergenceWarning: The max_iter was reached which means the coef_ did not converge\n",
      "  warnings.warn(\n",
      "C:\\Users\\Admin\\AppData\\Local\\Programs\\Python\\Python311\\Lib\\site-packages\\sklearn\\linear_model\\_sag.py:350: ConvergenceWarning: The max_iter was reached which means the coef_ did not converge\n",
      "  warnings.warn(\n",
      "C:\\Users\\Admin\\AppData\\Local\\Programs\\Python\\Python311\\Lib\\site-packages\\sklearn\\linear_model\\_sag.py:350: ConvergenceWarning: The max_iter was reached which means the coef_ did not converge\n",
      "  warnings.warn(\n",
      "C:\\Users\\Admin\\AppData\\Local\\Programs\\Python\\Python311\\Lib\\site-packages\\sklearn\\linear_model\\_sag.py:350: ConvergenceWarning: The max_iter was reached which means the coef_ did not converge\n",
      "  warnings.warn(\n",
      "C:\\Users\\Admin\\AppData\\Local\\Programs\\Python\\Python311\\Lib\\site-packages\\sklearn\\linear_model\\_sag.py:350: ConvergenceWarning: The max_iter was reached which means the coef_ did not converge\n",
      "  warnings.warn(\n",
      "C:\\Users\\Admin\\AppData\\Local\\Programs\\Python\\Python311\\Lib\\site-packages\\sklearn\\linear_model\\_sag.py:350: ConvergenceWarning: The max_iter was reached which means the coef_ did not converge\n",
      "  warnings.warn(\n",
      "C:\\Users\\Admin\\AppData\\Local\\Programs\\Python\\Python311\\Lib\\site-packages\\sklearn\\linear_model\\_sag.py:350: ConvergenceWarning: The max_iter was reached which means the coef_ did not converge\n",
      "  warnings.warn(\n",
      "C:\\Users\\Admin\\AppData\\Local\\Programs\\Python\\Python311\\Lib\\site-packages\\sklearn\\linear_model\\_sag.py:350: ConvergenceWarning: The max_iter was reached which means the coef_ did not converge\n",
      "  warnings.warn(\n",
      "C:\\Users\\Admin\\AppData\\Local\\Programs\\Python\\Python311\\Lib\\site-packages\\sklearn\\linear_model\\_sag.py:350: ConvergenceWarning: The max_iter was reached which means the coef_ did not converge\n",
      "  warnings.warn(\n",
      "C:\\Users\\Admin\\AppData\\Local\\Programs\\Python\\Python311\\Lib\\site-packages\\sklearn\\linear_model\\_sag.py:350: ConvergenceWarning: The max_iter was reached which means the coef_ did not converge\n",
      "  warnings.warn(\n",
      "C:\\Users\\Admin\\AppData\\Local\\Programs\\Python\\Python311\\Lib\\site-packages\\sklearn\\linear_model\\_sag.py:350: ConvergenceWarning: The max_iter was reached which means the coef_ did not converge\n",
      "  warnings.warn(\n"
     ]
    }
   ],
   "source": [
    "LogitParamGrid = {\"solver\" : [\"lbfgs\", \"newton-cholesky\", \"sag\", \"saga\", \"newton-cg\"],\n",
    "                  \"max_iter\" : [1000,10000],\n",
    "                  \"class_weight\" : [None, \"balanced\", {0 : (500/ 768), 1: (268/768)} ],\n",
    "                  \"penalty\" : [\"l2\", None]\n",
    "                 }\n",
    "LogitModel = LogisticRegression()\n",
    "LogitModelWithBestParameters = buildModelWithBestParameters(estimator = LogitModel, \n",
    "                                                        param_grid = LogitParamGrid, \n",
    "                                                        scoring = scoring, \n",
    "                                                        refit = refit,\n",
    "                                                        X_train = X_train_with_balanced_class_without_outliers,\n",
    "                                                        y_train = y_train_with_balanced_class_without_outliers)"
   ]
  },
  {
   "cell_type": "code",
   "execution_count": 46,
   "id": "f993d5d5",
   "metadata": {
    "scrolled": true
   },
   "outputs": [
    {
     "name": "stdout",
     "output_type": "stream",
     "text": [
      "{'class_weight': None, 'max_iter': 1000, 'penalty': None, 'solver': 'lbfgs'}\n"
     ]
    }
   ],
   "source": [
    "print(LogitModelWithBestParameters.best_params_)"
   ]
  },
  {
   "cell_type": "code",
   "execution_count": 47,
   "id": "b301d5e6",
   "metadata": {
    "scrolled": true
   },
   "outputs": [
    {
     "name": "stdout",
     "output_type": "stream",
     "text": [
      "{'class_weight': None, 'max_iter': 1000, 'penalty': None, 'solver': 'lbfgs'}\n"
     ]
    }
   ],
   "source": [
    "print(LogitModelWithBestParameters.best_params_)"
   ]
  },
  {
   "cell_type": "code",
   "execution_count": 48,
   "id": "a46a9d62",
   "metadata": {},
   "outputs": [
    {
     "data": {
      "text/html": [
       "<div>\n",
       "<style scoped>\n",
       "    .dataframe tbody tr th:only-of-type {\n",
       "        vertical-align: middle;\n",
       "    }\n",
       "\n",
       "    .dataframe tbody tr th {\n",
       "        vertical-align: top;\n",
       "    }\n",
       "\n",
       "    .dataframe thead th {\n",
       "        text-align: right;\n",
       "    }\n",
       "</style>\n",
       "<table border=\"1\" class=\"dataframe\">\n",
       "  <thead>\n",
       "    <tr style=\"text-align: right;\">\n",
       "      <th></th>\n",
       "      <th>Pregnancies</th>\n",
       "      <th>Glucose</th>\n",
       "      <th>BloodPressure</th>\n",
       "      <th>SkinThickness</th>\n",
       "      <th>Insulin</th>\n",
       "      <th>BMI</th>\n",
       "      <th>DiabetesPedigreeFunction</th>\n",
       "      <th>Age</th>\n",
       "      <th>Intercept</th>\n",
       "    </tr>\n",
       "  </thead>\n",
       "  <tbody>\n",
       "    <tr>\n",
       "      <th>Logit Model</th>\n",
       "      <td>0.038652</td>\n",
       "      <td>0.037786</td>\n",
       "      <td>-0.018515</td>\n",
       "      <td>0.014457</td>\n",
       "      <td>-0.00033</td>\n",
       "      <td>0.094609</td>\n",
       "      <td>0.980243</td>\n",
       "      <td>0.059626</td>\n",
       "      <td>-9.481174</td>\n",
       "    </tr>\n",
       "  </tbody>\n",
       "</table>\n",
       "</div>"
      ],
      "text/plain": [
       "            Pregnancies   Glucose BloodPressure SkinThickness  Insulin  \\\n",
       "Logit Model    0.038652  0.037786     -0.018515      0.014457 -0.00033   \n",
       "\n",
       "                  BMI DiabetesPedigreeFunction       Age  Intercept  \n",
       "Logit Model  0.094609                 0.980243  0.059626  -9.481174  "
      ]
     },
     "execution_count": 48,
     "metadata": {},
     "output_type": "execute_result"
    }
   ],
   "source": [
    "columns = LogitModelWithBestParameters.best_estimator_.feature_names_in_\n",
    "index = \"Logit Model\"\n",
    "coefficientsDataFrame = pd.DataFrame(index = [index] , columns = columns)\n",
    "\n",
    "coefficients = LogitModelWithBestParameters.best_estimator_.coef_[0]\n",
    "intercept = LogitModelWithBestParameters.best_estimator_.intercept_\n",
    "\n",
    "coefficientsDataFrame.loc[index, :] = coefficients\n",
    "coefficientsDataFrame.loc[index, \"Intercept\"] = intercept\n",
    "\n",
    "coefficientsDataFrame"
   ]
  },
  {
   "cell_type": "markdown",
   "id": "e5d55c6d",
   "metadata": {},
   "source": [
    "### Xây dựng mô hình K Nearest Classifier"
   ]
  },
  {
   "cell_type": "code",
   "execution_count": 49,
   "id": "a0b6e48b",
   "metadata": {},
   "outputs": [],
   "source": [
    "KNeighborParamGrid = {\"n_neighbors\" : [i for i in range(1,51)],\n",
    "                      \"weights\" : [\"uniform\", \"distance\"],\n",
    "                      \"p\" : [1,2]\n",
    "                     }\n",
    "KNeighborModel = KNeighborsClassifier()\n",
    "KNeighborModelWithBestParameters = buildModelWithBestParameters(estimator = KNeighborModel, \n",
    "                                                        param_grid = KNeighborParamGrid, \n",
    "                                                        scoring = scoring, \n",
    "                                                        refit = refit,\n",
    "                                                        X_train = X_train_with_balanced_class_without_outliers,\n",
    "                                                        y_train = y_train_with_balanced_class_without_outliers)"
   ]
  },
  {
   "cell_type": "markdown",
   "id": "e2facbaa",
   "metadata": {},
   "source": [
    "### Các tham số trong việc xây dựng mô hình K Nearest Neighbor"
   ]
  },
  {
   "cell_type": "code",
   "execution_count": 50,
   "id": "c5b08c6e",
   "metadata": {},
   "outputs": [
    {
     "name": "stdout",
     "output_type": "stream",
     "text": [
      "{'n_neighbors': 1, 'p': 1, 'weights': 'uniform'}\n"
     ]
    }
   ],
   "source": [
    "print(KNeighborModelWithBestParameters.best_params_)"
   ]
  },
  {
   "cell_type": "markdown",
   "id": "9df79282",
   "metadata": {},
   "source": [
    "## Đánh giá mô hình"
   ]
  },
  {
   "cell_type": "markdown",
   "id": "cfa90ac8",
   "metadata": {},
   "source": [
    "### Giá trị của các tiêu chí đánh giá của các mô hình"
   ]
  },
  {
   "cell_type": "code",
   "execution_count": 51,
   "id": "ee9b4b28",
   "metadata": {},
   "outputs": [
    {
     "data": {
      "text/html": [
       "<div>\n",
       "<style scoped>\n",
       "    .dataframe tbody tr th:only-of-type {\n",
       "        vertical-align: middle;\n",
       "    }\n",
       "\n",
       "    .dataframe tbody tr th {\n",
       "        vertical-align: top;\n",
       "    }\n",
       "\n",
       "    .dataframe thead th {\n",
       "        text-align: right;\n",
       "    }\n",
       "</style>\n",
       "<table border=\"1\" class=\"dataframe\">\n",
       "  <thead>\n",
       "    <tr style=\"text-align: right;\">\n",
       "      <th></th>\n",
       "      <th>Accuracy</th>\n",
       "      <th>Precision</th>\n",
       "      <th>Recall</th>\n",
       "      <th>f2</th>\n",
       "    </tr>\n",
       "  </thead>\n",
       "  <tbody>\n",
       "    <tr>\n",
       "      <th>Logit model</th>\n",
       "      <td>71.428571</td>\n",
       "      <td>57.746479</td>\n",
       "      <td>74.545455</td>\n",
       "      <td>70.446735</td>\n",
       "    </tr>\n",
       "    <tr>\n",
       "      <th>KNeighbor model</th>\n",
       "      <td>64.285714</td>\n",
       "      <td>50.000000</td>\n",
       "      <td>63.636364</td>\n",
       "      <td>60.344828</td>\n",
       "    </tr>\n",
       "  </tbody>\n",
       "</table>\n",
       "</div>"
      ],
      "text/plain": [
       "                  Accuracy  Precision     Recall         f2\n",
       "Logit model      71.428571  57.746479  74.545455  70.446735\n",
       "KNeighbor model  64.285714  50.000000  63.636364  60.344828"
      ]
     },
     "execution_count": 51,
     "metadata": {},
     "output_type": "execute_result"
    }
   ],
   "source": [
    "KNeighborModelMeasuresDataFrame = returnMeasurements(KNeighborModelWithBestParameters, X_test, y_test, \"KNeighbor model\")\n",
    "LogitModelMeasuresDataFrame = returnMeasurements(LogitModelWithBestParameters, X_test, y_test, \"Logit model\")\n",
    "\n",
    "MeasurementsDataFrame = pd.concat([LogitModelMeasuresDataFrame, KNeighborModelMeasuresDataFrame])\n",
    "MeasurementsDataFrame"
   ]
  },
  {
   "cell_type": "markdown",
   "id": "7b9d7977",
   "metadata": {},
   "source": [
    "### Biểu đồ thanh cho biết thông tin về các giá trị của các tiêu chí đánh giá của các mô hình"
   ]
  },
  {
   "cell_type": "code",
   "execution_count": 52,
   "id": "874aaf2b",
   "metadata": {
    "scrolled": true
   },
   "outputs": [
    {
     "data": {
      "text/plain": [
       "<AxesSubplot: ylabel='Phần trăm'>"
      ]
     },
     "execution_count": 52,
     "metadata": {},
     "output_type": "execute_result"
    },
    {
     "data": {
      "image/png": "[encoded data removed]",
      "text/plain": [
       "<Figure size 640x480 with 1 Axes>"
      ]
     },
     "metadata": {},
     "output_type": "display_data"
    }
   ],
   "source": [
    "minValue = MeasurementsDataFrame.loc[:, [\"Accuracy\", \"Precision\", \"Recall\", \"f2\"]].min().min()\n",
    "MeasurementsDataFrame.loc[:, [\"Accuracy\", \"Precision\", \"Recall\", \"f2\"]].plot.bar(ylim = (minValue - 5, 100), \n",
    "                                                                                 ylabel = \"Phần trăm\")"
   ]
  },
  {
   "cell_type": "markdown",
   "id": "8c1be25a",
   "metadata": {},
   "source": [
    "### Biểu đồ thanh cho biết thông tin về các thời gian tiên đoán của các mô hình"
   ]
  },
  {
   "cell_type": "code",
   "execution_count": 53,
   "id": "be39ad78",
   "metadata": {
    "scrolled": true
   },
   "outputs": [
    {
     "data": {
      "text/plain": [
       "<BarContainer object of 2 artists>"
      ]
     },
     "execution_count": 53,
     "metadata": {},
     "output_type": "execute_result"
    },
    {
     "data": {
      "image/png": "[encoded data removed]",
      "text/plain": [
       "<Figure size 640x480 with 1 Axes>"
      ]
     },
     "metadata": {},
     "output_type": "display_data"
    }
   ],
   "source": [
    "def averagePredictionTime(model, X, y):\n",
    "    arr = []\n",
    "    for i in range(100):\n",
    "        X_train, X_test, y_train, y_test = train_test_split(X, y,test_size = 0.2, random_state = 42)\n",
    "        t1 = time.time()\n",
    "        model.predict(X_test)\n",
    "        t2 = time.time()\n",
    "        arr.append(t2 - t1)\n",
    "    return pd.Series(arr).mean()\n",
    "\n",
    "averagePredictionTimeForKNearestNeighbor = averagePredictionTime(KNeighborModelWithBestParameters, X, y)\n",
    "averagePredictionTimeForLogisticRegression = averagePredictionTime(LogitModelWithBestParameters, X, y)\n",
    "\n",
    "fig, axis = plt.subplots(nrows = 1, ncols = 1)\n",
    "axis.set_ylabel(\"Thời gian tiên đoán\")\n",
    "axis.bar([\"K Nearest Neighbor model\", \"Logit model\"], [averagePredictionTimeForKNearestNeighbor, \n",
    "                                                        averagePredictionTimeForLogisticRegression])"
   ]
  }
 ],
 "metadata": {
  "kernelspec": {
   "display_name": "Python 3 (ipykernel)",
   "language": "python",
   "name": "python3"
  },
  "language_info": {
   "codemirror_mode": {
    "name": "ipython",
    "version": 3
   },
   "file_extension": ".py",
   "mimetype": "text/x-python",
   "name": "python",
   "nbconvert_exporter": "python",
   "pygments_lexer": "ipython3",
   "version": "3.11.2"
  }
 },
 "nbformat": 4,
 "nbformat_minor": 5
}
